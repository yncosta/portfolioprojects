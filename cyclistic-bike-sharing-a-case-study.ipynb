{
 "cells": [
  {
   "cell_type": "markdown",
   "id": "8eb4309c",
   "metadata": {
    "papermill": {
     "duration": 0.021989,
     "end_time": "2021-07-20T15:18:16.033090",
     "exception": false,
     "start_time": "2021-07-20T15:18:16.011101",
     "status": "completed"
    },
    "tags": []
   },
   "source": [
    "### Cyclistic: analysis for a bike sharing company\n",
    "\n",
    "Yan Costa\n",
    "<br>*July, 2021*\n",
    "\n",
    "---    \n",
    "\n",
    "##### **Mission statement**: Cyclistic is a bike-share program that features more than 5,800 bicycles and 600 docking stations across Chicago, IL (USA). The company currently has three distinct pricing plans: **single-ride passes**, **full-day passes**, and **annual memberships**. Their conclusion is that, financially speaking, 'annual members' are much more profitable than 'casual riders' - as they classify their customers. \n",
    "##### The idea behind this study is to analyze Cyclistic's user data and identify how customers behave differently, coming up with insights that could help convert 'casual riders' into 'annual members'.\n",
    "\n",
    "---\n",
    "\n",
    "##### The data analysis process consists of 6 key steps, them being: `Ask`, `Prepare`, `Process`, `Analyze`, `Share` and `Act`.\n",
    "##### Each step and relevant finding is going to be documented. At the end, I am going to share at least **three key insights** to help achieve the business goal."
   ]
  },
  {
   "cell_type": "markdown",
   "id": "b1e0e7e4",
   "metadata": {
    "papermill": {
     "duration": 0.020843,
     "end_time": "2021-07-20T15:18:16.076864",
     "exception": false,
     "start_time": "2021-07-20T15:18:16.056021",
     "status": "completed"
    },
    "tags": []
   },
   "source": [
    "### Ask\n",
    "#### At this point, it is important to have a clear understanding of what the business task is and what steps we plan to take to successfully tackle it. \n",
    "* The purpose of this analysis has already been clearly defined: **improve revenue by converting 'casual riders' into 'annual members'**. For that, we have to understand in what exactly they differ from each other, so that we can target these customers in marketing campaings. \n",
    "* The key **stakeholders** are the marketing analytics team, and the director of Marketing, to whom the results will be reported."
   ]
  },
  {
   "cell_type": "markdown",
   "id": "5d988221",
   "metadata": {
    "papermill": {
     "duration": 0.020872,
     "end_time": "2021-07-20T15:18:16.119921",
     "exception": false,
     "start_time": "2021-07-20T15:18:16.099049",
     "status": "completed"
    },
    "tags": []
   },
   "source": [
    "### Prepare\n",
    "#### Ensure that the data source is reliable and its content allows for the analysis.\n",
    "* The dataset comes from *Motivate International Inc.*, under a [data license agreement](https://www.divvybikes.com/data-license-agreement). Forked via this Kaggle [dataset](https://www.kaggle.com/kevinvenza/cyclistic-bike-share). It consists of 660mb+ of .csv files. Its integrity and credibility are secured, given that it comes directly from the source - company's own data.\n",
    "* The files, as we will soon see, are well-organized and also follow a naming convention, which adds to its accessibility.\n",
    "\n",
    "\n"
   ]
  },
  {
   "cell_type": "markdown",
   "id": "835d05e6",
   "metadata": {
    "execution": {
     "iopub.execute_input": "2021-07-20T09:24:46.002804Z",
     "iopub.status.busy": "2021-07-20T09:24:46.002400Z",
     "iopub.status.idle": "2021-07-20T09:24:46.007415Z",
     "shell.execute_reply": "2021-07-20T09:24:46.006317Z",
     "shell.execute_reply.started": "2021-07-20T09:24:46.002763Z"
    },
    "papermill": {
     "duration": 0.020719,
     "end_time": "2021-07-20T15:18:16.161330",
     "exception": false,
     "start_time": "2021-07-20T15:18:16.140611",
     "status": "completed"
    },
    "tags": []
   },
   "source": [
    "### Process\n",
    "#### Description of the chosen tools and documentation of each step taken for data cleaning and manipulation\n",
    "* The size of each file has played an important role in the choice of tools. Neither *BigQuery* (SQL, under a public license) nor *Google Sheets* were able to handle such amount of data. Therefore, I have chosen to use **Python** - and this Kaggle notebook - to perform the analysis. It should facilitate both manipulation and creation of visualizations when necessary.\n",
    "* Each step of the **analysis** is thoroughly documented."
   ]
  },
  {
   "cell_type": "code",
   "execution_count": 1,
   "id": "ef691a5f",
   "metadata": {
    "_cell_guid": "b1076dfc-b9ad-4769-8c92-a6c4dae69d19",
    "_kg_hide-output": true,
    "_uuid": "8f2839f25d086af736a60e9eeb907d3b93b6e0e5",
    "execution": {
     "iopub.execute_input": "2021-07-20T15:18:16.217086Z",
     "iopub.status.busy": "2021-07-20T15:18:16.215984Z",
     "iopub.status.idle": "2021-07-20T15:18:17.878723Z",
     "shell.execute_reply": "2021-07-20T15:18:17.877904Z",
     "shell.execute_reply.started": "2021-07-20T09:48:02.040658Z"
    },
    "papermill": {
     "duration": 1.696548,
     "end_time": "2021-07-20T15:18:17.878917",
     "exception": false,
     "start_time": "2021-07-20T15:18:16.182369",
     "status": "completed"
    },
    "tags": []
   },
   "outputs": [
    {
     "name": "stdout",
     "output_type": "stream",
     "text": [
      "/kaggle/input/cyclistic-bike-share/202011-divvy-tripdata.csv\n",
      "/kaggle/input/cyclistic-bike-share/202012-divvy-tripdata.csv\n",
      "/kaggle/input/cyclistic-bike-share/202004-divvy-tripdata.csv\n",
      "/kaggle/input/cyclistic-bike-share/202009-divvy-tripdata.csv\n",
      "/kaggle/input/cyclistic-bike-share/202006-divvy-tripdata.csv\n",
      "/kaggle/input/cyclistic-bike-share/202010-divvy-tripdata.csv\n",
      "/kaggle/input/cyclistic-bike-share/202008-divvy-tripdata.csv\n",
      "/kaggle/input/cyclistic-bike-share/202101-divvy-tripdata.csv\n",
      "/kaggle/input/cyclistic-bike-share/202007-divvy-tripdata.csv\n",
      "/kaggle/input/cyclistic-bike-share/202103-divvy-tripdata.csv\n",
      "/kaggle/input/cyclistic-bike-share/202104-divvy-tripdata.csv\n",
      "/kaggle/input/cyclistic-bike-share/202102-divvy-tripdata.csv\n",
      "/kaggle/input/cyclistic-bike-share/202005-divvy-tripdata.csv\n"
     ]
    }
   ],
   "source": [
    "# main imports (for calculations and data manipulation)\n",
    "import pandas as pd\n",
    "import numpy as np\n",
    "import matplotlib.pyplot as plt\n",
    "import seaborn as sns\n",
    "%matplotlib inline\n",
    "\n",
    "# after glimpsing the data, I'll also import geopy to calculate the distance of each ride\n",
    "from geopy import distance, Point\n",
    "\n",
    "# to plot a map afterwards\n",
    "from bokeh.plotting import figure, show, output_notebook\n",
    "from bokeh.tile_providers import get_provider, Vendors\n",
    "from bokeh.models import Segment, ColumnDataSource\n",
    "\n",
    "# get the path of each file and join them\n",
    "import glob\n",
    "import os\n",
    "for dirname, _, filenames in os.walk('/kaggle/input'):\n",
    "    for filename in filenames:\n",
    "        print(os.path.join(dirname, filename))"
   ]
  },
  {
   "cell_type": "code",
   "execution_count": 2,
   "id": "c7a27f68",
   "metadata": {
    "_kg_hide-output": true,
    "execution": {
     "iopub.execute_input": "2021-07-20T15:18:17.927438Z",
     "iopub.status.busy": "2021-07-20T15:18:17.926790Z",
     "iopub.status.idle": "2021-07-20T15:18:43.346535Z",
     "shell.execute_reply": "2021-07-20T15:18:43.345988Z",
     "shell.execute_reply.started": "2021-07-20T09:48:30.630411Z"
    },
    "papermill": {
     "duration": 25.446097,
     "end_time": "2021-07-20T15:18:43.346720",
     "exception": false,
     "start_time": "2021-07-20T15:18:17.900623",
     "status": "completed"
    },
    "tags": []
   },
   "outputs": [
    {
     "name": "stdout",
     "output_type": "stream",
     "text": [
      "<class 'pandas.core.frame.DataFrame'>\n",
      "RangeIndex: 3826978 entries, 0 to 3826977\n",
      "Data columns (total 13 columns):\n",
      " #   Column              Dtype  \n",
      "---  ------              -----  \n",
      " 0   ride_id             object \n",
      " 1   rideable_type       object \n",
      " 2   started_at          object \n",
      " 3   ended_at            object \n",
      " 4   start_station_name  object \n",
      " 5   start_station_id    object \n",
      " 6   end_station_name    object \n",
      " 7   end_station_id      object \n",
      " 8   start_lat           float64\n",
      " 9   start_lng           float64\n",
      " 10  end_lat             float64\n",
      " 11  end_lng             float64\n",
      " 12  member_casual       object \n",
      "dtypes: float64(4), object(9)\n",
      "memory usage: 379.6+ MB\n"
     ]
    },
    {
     "data": {
      "text/html": [
       "<div>\n",
       "<style scoped>\n",
       "    .dataframe tbody tr th:only-of-type {\n",
       "        vertical-align: middle;\n",
       "    }\n",
       "\n",
       "    .dataframe tbody tr th {\n",
       "        vertical-align: top;\n",
       "    }\n",
       "\n",
       "    .dataframe thead th {\n",
       "        text-align: right;\n",
       "    }\n",
       "</style>\n",
       "<table border=\"1\" class=\"dataframe\">\n",
       "  <thead>\n",
       "    <tr style=\"text-align: right;\">\n",
       "      <th></th>\n",
       "      <th>ride_id</th>\n",
       "      <th>rideable_type</th>\n",
       "      <th>started_at</th>\n",
       "      <th>ended_at</th>\n",
       "      <th>start_station_name</th>\n",
       "      <th>start_station_id</th>\n",
       "      <th>end_station_name</th>\n",
       "      <th>end_station_id</th>\n",
       "      <th>start_lat</th>\n",
       "      <th>start_lng</th>\n",
       "      <th>end_lat</th>\n",
       "      <th>end_lng</th>\n",
       "      <th>member_casual</th>\n",
       "    </tr>\n",
       "  </thead>\n",
       "  <tbody>\n",
       "    <tr>\n",
       "      <th>0</th>\n",
       "      <td>BD0A6FF6FFF9B921</td>\n",
       "      <td>electric_bike</td>\n",
       "      <td>2020-11-01 13:36:00</td>\n",
       "      <td>2020-11-01 13:45:40</td>\n",
       "      <td>Dearborn St &amp; Erie St</td>\n",
       "      <td>110.0</td>\n",
       "      <td>St. Clair St &amp; Erie St</td>\n",
       "      <td>211.0</td>\n",
       "      <td>41.894177</td>\n",
       "      <td>-87.629127</td>\n",
       "      <td>41.894434</td>\n",
       "      <td>-87.623379</td>\n",
       "      <td>casual</td>\n",
       "    </tr>\n",
       "    <tr>\n",
       "      <th>1</th>\n",
       "      <td>96A7A7A4BDE4F82D</td>\n",
       "      <td>electric_bike</td>\n",
       "      <td>2020-11-01 10:03:26</td>\n",
       "      <td>2020-11-01 10:14:45</td>\n",
       "      <td>Franklin St &amp; Illinois St</td>\n",
       "      <td>672.0</td>\n",
       "      <td>Noble St &amp; Milwaukee Ave</td>\n",
       "      <td>29.0</td>\n",
       "      <td>41.890959</td>\n",
       "      <td>-87.635343</td>\n",
       "      <td>41.900675</td>\n",
       "      <td>-87.662480</td>\n",
       "      <td>casual</td>\n",
       "    </tr>\n",
       "    <tr>\n",
       "      <th>2</th>\n",
       "      <td>C61526D06582BDC5</td>\n",
       "      <td>electric_bike</td>\n",
       "      <td>2020-11-01 00:34:05</td>\n",
       "      <td>2020-11-01 01:03:06</td>\n",
       "      <td>Lake Shore Dr &amp; Monroe St</td>\n",
       "      <td>76.0</td>\n",
       "      <td>Federal St &amp; Polk St</td>\n",
       "      <td>41.0</td>\n",
       "      <td>41.880983</td>\n",
       "      <td>-87.616754</td>\n",
       "      <td>41.872054</td>\n",
       "      <td>-87.629550</td>\n",
       "      <td>casual</td>\n",
       "    </tr>\n",
       "    <tr>\n",
       "      <th>3</th>\n",
       "      <td>E533E89C32080B9E</td>\n",
       "      <td>electric_bike</td>\n",
       "      <td>2020-11-01 00:45:16</td>\n",
       "      <td>2020-11-01 00:54:31</td>\n",
       "      <td>Leavitt St &amp; Chicago Ave</td>\n",
       "      <td>659.0</td>\n",
       "      <td>Stave St &amp; Armitage Ave</td>\n",
       "      <td>185.0</td>\n",
       "      <td>41.895499</td>\n",
       "      <td>-87.682013</td>\n",
       "      <td>41.917744</td>\n",
       "      <td>-87.691392</td>\n",
       "      <td>casual</td>\n",
       "    </tr>\n",
       "    <tr>\n",
       "      <th>4</th>\n",
       "      <td>1C9F4EF18C168C60</td>\n",
       "      <td>electric_bike</td>\n",
       "      <td>2020-11-01 15:43:25</td>\n",
       "      <td>2020-11-01 16:16:52</td>\n",
       "      <td>Buckingham Fountain</td>\n",
       "      <td>2.0</td>\n",
       "      <td>Buckingham Fountain</td>\n",
       "      <td>2.0</td>\n",
       "      <td>41.876497</td>\n",
       "      <td>-87.620358</td>\n",
       "      <td>41.876448</td>\n",
       "      <td>-87.620338</td>\n",
       "      <td>casual</td>\n",
       "    </tr>\n",
       "  </tbody>\n",
       "</table>\n",
       "</div>"
      ],
      "text/plain": [
       "            ride_id  rideable_type           started_at             ended_at  \\\n",
       "0  BD0A6FF6FFF9B921  electric_bike  2020-11-01 13:36:00  2020-11-01 13:45:40   \n",
       "1  96A7A7A4BDE4F82D  electric_bike  2020-11-01 10:03:26  2020-11-01 10:14:45   \n",
       "2  C61526D06582BDC5  electric_bike  2020-11-01 00:34:05  2020-11-01 01:03:06   \n",
       "3  E533E89C32080B9E  electric_bike  2020-11-01 00:45:16  2020-11-01 00:54:31   \n",
       "4  1C9F4EF18C168C60  electric_bike  2020-11-01 15:43:25  2020-11-01 16:16:52   \n",
       "\n",
       "          start_station_name start_station_id          end_station_name  \\\n",
       "0      Dearborn St & Erie St            110.0    St. Clair St & Erie St   \n",
       "1  Franklin St & Illinois St            672.0  Noble St & Milwaukee Ave   \n",
       "2  Lake Shore Dr & Monroe St             76.0      Federal St & Polk St   \n",
       "3   Leavitt St & Chicago Ave            659.0   Stave St & Armitage Ave   \n",
       "4        Buckingham Fountain              2.0       Buckingham Fountain   \n",
       "\n",
       "  end_station_id  start_lat  start_lng    end_lat    end_lng member_casual  \n",
       "0          211.0  41.894177 -87.629127  41.894434 -87.623379        casual  \n",
       "1           29.0  41.890959 -87.635343  41.900675 -87.662480        casual  \n",
       "2           41.0  41.880983 -87.616754  41.872054 -87.629550        casual  \n",
       "3          185.0  41.895499 -87.682013  41.917744 -87.691392        casual  \n",
       "4            2.0  41.876497 -87.620358  41.876448 -87.620338        casual  "
      ]
     },
     "execution_count": 2,
     "metadata": {},
     "output_type": "execute_result"
    }
   ],
   "source": [
    "# Reading all the files in and putting them together under one dataframe, by the name of 'trip_data'\n",
    "path = '/kaggle/input/cyclistic-bike-share/'\n",
    "all_files = glob.glob(path + \"*.csv\")\n",
    "trip_data = pd.concat((pd.read_csv(f) for f in all_files), ignore_index=True)\n",
    "\n",
    "# Info (details of the dataframe) and describe (stats for the numeric data) methods\n",
    "trip_data.info()\n",
    "trip_data.describe() # does not tell much, since most of the relevant data is not in numeric format\n",
    "\n",
    "# First records of the dataframe\n",
    "trip_data.head()\n",
    "\n",
    "# Notes: from the start, we can note that the columns adhere to the snake case convention, which adds to its credibility and facilitates \n",
    "# manipulation. Moreover, I suppose that the 'ID' columns will not add much to the analysis as far as their content goes."
   ]
  },
  {
   "cell_type": "code",
   "execution_count": 3,
   "id": "cddd7af1",
   "metadata": {
    "execution": {
     "iopub.execute_input": "2021-07-20T15:18:43.637887Z",
     "iopub.status.busy": "2021-07-20T15:18:43.460352Z",
     "iopub.status.idle": "2021-07-20T15:18:58.456305Z",
     "shell.execute_reply": "2021-07-20T15:18:58.455707Z",
     "shell.execute_reply.started": "2021-07-20T09:50:54.091609Z"
    },
    "papermill": {
     "duration": 15.087736,
     "end_time": "2021-07-20T15:18:58.456453",
     "exception": false,
     "start_time": "2021-07-20T15:18:43.368717",
     "status": "completed"
    },
    "tags": []
   },
   "outputs": [
    {
     "data": {
      "text/html": [
       "<div>\n",
       "<style scoped>\n",
       "    .dataframe tbody tr th:only-of-type {\n",
       "        vertical-align: middle;\n",
       "    }\n",
       "\n",
       "    .dataframe tbody tr th {\n",
       "        vertical-align: top;\n",
       "    }\n",
       "\n",
       "    .dataframe thead th {\n",
       "        text-align: right;\n",
       "    }\n",
       "</style>\n",
       "<table border=\"1\" class=\"dataframe\">\n",
       "  <thead>\n",
       "    <tr style=\"text-align: right;\">\n",
       "      <th></th>\n",
       "      <th>ride_id</th>\n",
       "      <th>rideable_type</th>\n",
       "      <th>started_at</th>\n",
       "      <th>ended_at</th>\n",
       "      <th>start_station_name</th>\n",
       "      <th>start_station_id</th>\n",
       "      <th>end_station_name</th>\n",
       "      <th>end_station_id</th>\n",
       "      <th>start_lat</th>\n",
       "      <th>start_lng</th>\n",
       "      <th>end_lat</th>\n",
       "      <th>end_lng</th>\n",
       "      <th>member_casual</th>\n",
       "    </tr>\n",
       "  </thead>\n",
       "  <tbody>\n",
       "  </tbody>\n",
       "</table>\n",
       "</div>"
      ],
      "text/plain": [
       "Empty DataFrame\n",
       "Columns: [ride_id, rideable_type, started_at, ended_at, start_station_name, start_station_id, end_station_name, end_station_id, start_lat, start_lng, end_lat, end_lng, member_casual]\n",
       "Index: []"
      ]
     },
     "execution_count": 3,
     "metadata": {},
     "output_type": "execute_result"
    }
   ],
   "source": [
    "# Starting out the cleaning process, let's just confirm that there are no duplicates in the dataframe:\n",
    "\n",
    "trip_data[trip_data.duplicated()]"
   ]
  },
  {
   "cell_type": "code",
   "execution_count": 4,
   "id": "beb2da03",
   "metadata": {
    "execution": {
     "iopub.execute_input": "2021-07-20T15:18:58.506593Z",
     "iopub.status.busy": "2021-07-20T15:18:58.505439Z",
     "iopub.status.idle": "2021-07-20T15:19:01.669018Z",
     "shell.execute_reply": "2021-07-20T15:19:01.669526Z",
     "shell.execute_reply.started": "2021-07-20T09:51:10.027413Z"
    },
    "papermill": {
     "duration": 3.191063,
     "end_time": "2021-07-20T15:19:01.669700",
     "exception": false,
     "start_time": "2021-07-20T15:18:58.478637",
     "status": "completed"
    },
    "tags": []
   },
   "outputs": [
    {
     "data": {
      "text/plain": [
       "ride_id               0.000000\n",
       "rideable_type         0.000000\n",
       "started_at            0.000000\n",
       "ended_at              0.000000\n",
       "start_station_name    3.873317\n",
       "start_station_id      3.889675\n",
       "end_station_name      4.479148\n",
       "end_station_id        4.491194\n",
       "start_lat             0.000000\n",
       "start_lng             0.000000\n",
       "end_lat               0.130782\n",
       "end_lng               0.130782\n",
       "member_casual         0.000000\n",
       "dtype: float64"
      ]
     },
     "execution_count": 4,
     "metadata": {},
     "output_type": "execute_result"
    }
   ],
   "source": [
    "# Next up: check if there's any NA values in this dataset and what percentage of the dataset they represent:\n",
    "\n",
    "(trip_data.isna().sum() / len(trip_data)) * 100"
   ]
  },
  {
   "cell_type": "code",
   "execution_count": 5,
   "id": "bfd665f4",
   "metadata": {
    "execution": {
     "iopub.execute_input": "2021-07-20T15:19:01.718003Z",
     "iopub.status.busy": "2021-07-20T15:19:01.717380Z",
     "iopub.status.idle": "2021-07-20T15:19:06.411159Z",
     "shell.execute_reply": "2021-07-20T15:19:06.410574Z",
     "shell.execute_reply.started": "2021-07-20T09:56:14.184963Z"
    },
    "papermill": {
     "duration": 4.718811,
     "end_time": "2021-07-20T15:19:06.411302",
     "exception": false,
     "start_time": "2021-07-20T15:19:01.692491",
     "status": "completed"
    },
    "tags": []
   },
   "outputs": [
    {
     "data": {
      "text/plain": [
       "array(['electric_bike', 'classic_bike'], dtype=object)"
      ]
     },
     "execution_count": 5,
     "metadata": {},
     "output_type": "execute_result"
    }
   ],
   "source": [
    "# Considering that the NAs only represent ~ 4.4% of the dataset - given that the highest percentages are all across the station names and IDs, \n",
    "# I suppose that they are the same records, and that shouldn't significantly impact the outcome of the project regardless -, I'll simply drop \n",
    "# them. \n",
    "# Since there are no duplicate entries, the 'ride_id' column would be rather useless for the purpose of this analysis. Same for the ID of each \n",
    "# station - their names are much more descriptive. With that said, I'll drop those columns as well and save the changes into a new dataframe.\n",
    "\n",
    "trip_data = trip_data.dropna()\n",
    "clean_trip_data = trip_data.drop(['ride_id', 'start_station_id', 'end_station_id'], axis=1)\n",
    "\n",
    "# After exploring what the 'rideable_type' column represents (basically, if a bike is classic, eletric, or docked) and what are the unique \n",
    "# values, I'll create an alternate dataframe without the docked bikes, to be used later on for analysis.\n",
    "\n",
    "trip_data['rideable_type'].unique()\n",
    "bike_types = clean_trip_data.query(\"rideable_type == 'classic_bike' or rideable_type == 'electric_bike'\")\n",
    "bike_types.rideable_type.unique()"
   ]
  },
  {
   "cell_type": "markdown",
   "id": "188db711",
   "metadata": {
    "papermill": {
     "duration": 0.022729,
     "end_time": "2021-07-20T15:19:06.456977",
     "exception": false,
     "start_time": "2021-07-20T15:19:06.434248",
     "status": "completed"
    },
    "tags": []
   },
   "source": [
    "### Manipulation / Transformation\n",
    "* After cleaning the dataset, transformations are needed and documented in the following steps.  "
   ]
  },
  {
   "cell_type": "code",
   "execution_count": 6,
   "id": "24ce6e60",
   "metadata": {
    "execution": {
     "iopub.execute_input": "2021-07-20T15:19:06.521313Z",
     "iopub.status.busy": "2021-07-20T15:19:06.520534Z",
     "iopub.status.idle": "2021-07-20T15:19:06.524262Z",
     "shell.execute_reply": "2021-07-20T15:19:06.524740Z",
     "shell.execute_reply.started": "2021-07-20T09:58:57.624660Z"
    },
    "papermill": {
     "duration": 0.043928,
     "end_time": "2021-07-20T15:19:06.524940",
     "exception": false,
     "start_time": "2021-07-20T15:19:06.481012",
     "status": "completed"
    },
    "tags": []
   },
   "outputs": [
    {
     "data": {
      "text/html": [
       "<div>\n",
       "<style scoped>\n",
       "    .dataframe tbody tr th:only-of-type {\n",
       "        vertical-align: middle;\n",
       "    }\n",
       "\n",
       "    .dataframe tbody tr th {\n",
       "        vertical-align: top;\n",
       "    }\n",
       "\n",
       "    .dataframe thead th {\n",
       "        text-align: right;\n",
       "    }\n",
       "</style>\n",
       "<table border=\"1\" class=\"dataframe\">\n",
       "  <thead>\n",
       "    <tr style=\"text-align: right;\">\n",
       "      <th></th>\n",
       "      <th>rideable_type</th>\n",
       "      <th>started_at</th>\n",
       "      <th>ended_at</th>\n",
       "      <th>start_station_name</th>\n",
       "      <th>end_station_name</th>\n",
       "      <th>start_lat</th>\n",
       "      <th>start_lng</th>\n",
       "      <th>end_lat</th>\n",
       "      <th>end_lng</th>\n",
       "      <th>member_casual</th>\n",
       "    </tr>\n",
       "  </thead>\n",
       "  <tbody>\n",
       "    <tr>\n",
       "      <th>0</th>\n",
       "      <td>electric_bike</td>\n",
       "      <td>2020-11-01 13:36:00</td>\n",
       "      <td>2020-11-01 13:45:40</td>\n",
       "      <td>Dearborn St &amp; Erie St</td>\n",
       "      <td>St. Clair St &amp; Erie St</td>\n",
       "      <td>41.894177</td>\n",
       "      <td>-87.629127</td>\n",
       "      <td>41.894434</td>\n",
       "      <td>-87.623379</td>\n",
       "      <td>casual</td>\n",
       "    </tr>\n",
       "    <tr>\n",
       "      <th>1</th>\n",
       "      <td>electric_bike</td>\n",
       "      <td>2020-11-01 10:03:26</td>\n",
       "      <td>2020-11-01 10:14:45</td>\n",
       "      <td>Franklin St &amp; Illinois St</td>\n",
       "      <td>Noble St &amp; Milwaukee Ave</td>\n",
       "      <td>41.890959</td>\n",
       "      <td>-87.635343</td>\n",
       "      <td>41.900675</td>\n",
       "      <td>-87.662480</td>\n",
       "      <td>casual</td>\n",
       "    </tr>\n",
       "    <tr>\n",
       "      <th>2</th>\n",
       "      <td>electric_bike</td>\n",
       "      <td>2020-11-01 00:34:05</td>\n",
       "      <td>2020-11-01 01:03:06</td>\n",
       "      <td>Lake Shore Dr &amp; Monroe St</td>\n",
       "      <td>Federal St &amp; Polk St</td>\n",
       "      <td>41.880983</td>\n",
       "      <td>-87.616754</td>\n",
       "      <td>41.872054</td>\n",
       "      <td>-87.629550</td>\n",
       "      <td>casual</td>\n",
       "    </tr>\n",
       "    <tr>\n",
       "      <th>3</th>\n",
       "      <td>electric_bike</td>\n",
       "      <td>2020-11-01 00:45:16</td>\n",
       "      <td>2020-11-01 00:54:31</td>\n",
       "      <td>Leavitt St &amp; Chicago Ave</td>\n",
       "      <td>Stave St &amp; Armitage Ave</td>\n",
       "      <td>41.895499</td>\n",
       "      <td>-87.682013</td>\n",
       "      <td>41.917744</td>\n",
       "      <td>-87.691392</td>\n",
       "      <td>casual</td>\n",
       "    </tr>\n",
       "    <tr>\n",
       "      <th>4</th>\n",
       "      <td>electric_bike</td>\n",
       "      <td>2020-11-01 15:43:25</td>\n",
       "      <td>2020-11-01 16:16:52</td>\n",
       "      <td>Buckingham Fountain</td>\n",
       "      <td>Buckingham Fountain</td>\n",
       "      <td>41.876497</td>\n",
       "      <td>-87.620358</td>\n",
       "      <td>41.876448</td>\n",
       "      <td>-87.620338</td>\n",
       "      <td>casual</td>\n",
       "    </tr>\n",
       "  </tbody>\n",
       "</table>\n",
       "</div>"
      ],
      "text/plain": [
       "   rideable_type           started_at             ended_at  \\\n",
       "0  electric_bike  2020-11-01 13:36:00  2020-11-01 13:45:40   \n",
       "1  electric_bike  2020-11-01 10:03:26  2020-11-01 10:14:45   \n",
       "2  electric_bike  2020-11-01 00:34:05  2020-11-01 01:03:06   \n",
       "3  electric_bike  2020-11-01 00:45:16  2020-11-01 00:54:31   \n",
       "4  electric_bike  2020-11-01 15:43:25  2020-11-01 16:16:52   \n",
       "\n",
       "          start_station_name          end_station_name  start_lat  start_lng  \\\n",
       "0      Dearborn St & Erie St    St. Clair St & Erie St  41.894177 -87.629127   \n",
       "1  Franklin St & Illinois St  Noble St & Milwaukee Ave  41.890959 -87.635343   \n",
       "2  Lake Shore Dr & Monroe St      Federal St & Polk St  41.880983 -87.616754   \n",
       "3   Leavitt St & Chicago Ave   Stave St & Armitage Ave  41.895499 -87.682013   \n",
       "4        Buckingham Fountain       Buckingham Fountain  41.876497 -87.620358   \n",
       "\n",
       "     end_lat    end_lng member_casual  \n",
       "0  41.894434 -87.623379        casual  \n",
       "1  41.900675 -87.662480        casual  \n",
       "2  41.872054 -87.629550        casual  \n",
       "3  41.917744 -87.691392        casual  \n",
       "4  41.876448 -87.620338        casual  "
      ]
     },
     "execution_count": 6,
     "metadata": {},
     "output_type": "execute_result"
    }
   ],
   "source": [
    "clean_trip_data.head()\n",
    "\n",
    "# Main steps: \n",
    "\n",
    "# 1. Format 'started_at' and 'ended_at' as datetime objects, which will then allow for calculations.\n",
    "\n",
    "# 2. Create columns for: day of the week for each ride, duration of each ride, start hour of each ride.\n",
    "\n",
    "# 3. Create columns for start and ending points of each ride (lat, lng). It will then enable to calculate the distance (in km) and\n",
    "# coordinates, that are the needed input for 'bokeh' to be able to plot the maps."
   ]
  },
  {
   "cell_type": "code",
   "execution_count": 7,
   "id": "cf48901a",
   "metadata": {
    "execution": {
     "iopub.execute_input": "2021-07-20T15:19:06.575477Z",
     "iopub.status.busy": "2021-07-20T15:19:06.574852Z",
     "iopub.status.idle": "2021-07-20T15:19:11.343043Z",
     "shell.execute_reply": "2021-07-20T15:19:11.342507Z",
     "shell.execute_reply.started": "2021-07-20T11:04:11.720488Z"
    },
    "papermill": {
     "duration": 4.794493,
     "end_time": "2021-07-20T15:19:11.343193",
     "exception": false,
     "start_time": "2021-07-20T15:19:06.548700",
     "status": "completed"
    },
    "tags": []
   },
   "outputs": [
    {
     "data": {
      "text/html": [
       "<div>\n",
       "<style scoped>\n",
       "    .dataframe tbody tr th:only-of-type {\n",
       "        vertical-align: middle;\n",
       "    }\n",
       "\n",
       "    .dataframe tbody tr th {\n",
       "        vertical-align: top;\n",
       "    }\n",
       "\n",
       "    .dataframe thead th {\n",
       "        text-align: right;\n",
       "    }\n",
       "</style>\n",
       "<table border=\"1\" class=\"dataframe\">\n",
       "  <thead>\n",
       "    <tr style=\"text-align: right;\">\n",
       "      <th></th>\n",
       "      <th>rideable_type</th>\n",
       "      <th>started_at</th>\n",
       "      <th>ended_at</th>\n",
       "      <th>start_station_name</th>\n",
       "      <th>end_station_name</th>\n",
       "      <th>start_lat</th>\n",
       "      <th>start_lng</th>\n",
       "      <th>end_lat</th>\n",
       "      <th>end_lng</th>\n",
       "      <th>member_casual</th>\n",
       "      <th>day_of_week</th>\n",
       "      <th>duration</th>\n",
       "      <th>start_hour</th>\n",
       "    </tr>\n",
       "  </thead>\n",
       "  <tbody>\n",
       "    <tr>\n",
       "      <th>0</th>\n",
       "      <td>electric_bike</td>\n",
       "      <td>2020-11-01 13:36:00</td>\n",
       "      <td>2020-11-01 13:45:40</td>\n",
       "      <td>Dearborn St &amp; Erie St</td>\n",
       "      <td>St. Clair St &amp; Erie St</td>\n",
       "      <td>41.894177</td>\n",
       "      <td>-87.629127</td>\n",
       "      <td>41.894434</td>\n",
       "      <td>-87.623379</td>\n",
       "      <td>casual</td>\n",
       "      <td>Sunday</td>\n",
       "      <td>9.666667</td>\n",
       "      <td>13</td>\n",
       "    </tr>\n",
       "    <tr>\n",
       "      <th>1</th>\n",
       "      <td>electric_bike</td>\n",
       "      <td>2020-11-01 10:03:26</td>\n",
       "      <td>2020-11-01 10:14:45</td>\n",
       "      <td>Franklin St &amp; Illinois St</td>\n",
       "      <td>Noble St &amp; Milwaukee Ave</td>\n",
       "      <td>41.890959</td>\n",
       "      <td>-87.635343</td>\n",
       "      <td>41.900675</td>\n",
       "      <td>-87.662480</td>\n",
       "      <td>casual</td>\n",
       "      <td>Sunday</td>\n",
       "      <td>11.316667</td>\n",
       "      <td>10</td>\n",
       "    </tr>\n",
       "    <tr>\n",
       "      <th>2</th>\n",
       "      <td>electric_bike</td>\n",
       "      <td>2020-11-01 00:34:05</td>\n",
       "      <td>2020-11-01 01:03:06</td>\n",
       "      <td>Lake Shore Dr &amp; Monroe St</td>\n",
       "      <td>Federal St &amp; Polk St</td>\n",
       "      <td>41.880983</td>\n",
       "      <td>-87.616754</td>\n",
       "      <td>41.872054</td>\n",
       "      <td>-87.629550</td>\n",
       "      <td>casual</td>\n",
       "      <td>Sunday</td>\n",
       "      <td>29.016667</td>\n",
       "      <td>0</td>\n",
       "    </tr>\n",
       "    <tr>\n",
       "      <th>3</th>\n",
       "      <td>electric_bike</td>\n",
       "      <td>2020-11-01 00:45:16</td>\n",
       "      <td>2020-11-01 00:54:31</td>\n",
       "      <td>Leavitt St &amp; Chicago Ave</td>\n",
       "      <td>Stave St &amp; Armitage Ave</td>\n",
       "      <td>41.895499</td>\n",
       "      <td>-87.682013</td>\n",
       "      <td>41.917744</td>\n",
       "      <td>-87.691392</td>\n",
       "      <td>casual</td>\n",
       "      <td>Sunday</td>\n",
       "      <td>9.250000</td>\n",
       "      <td>0</td>\n",
       "    </tr>\n",
       "    <tr>\n",
       "      <th>4</th>\n",
       "      <td>electric_bike</td>\n",
       "      <td>2020-11-01 15:43:25</td>\n",
       "      <td>2020-11-01 16:16:52</td>\n",
       "      <td>Buckingham Fountain</td>\n",
       "      <td>Buckingham Fountain</td>\n",
       "      <td>41.876497</td>\n",
       "      <td>-87.620358</td>\n",
       "      <td>41.876448</td>\n",
       "      <td>-87.620338</td>\n",
       "      <td>casual</td>\n",
       "      <td>Sunday</td>\n",
       "      <td>33.450000</td>\n",
       "      <td>15</td>\n",
       "    </tr>\n",
       "  </tbody>\n",
       "</table>\n",
       "</div>"
      ],
      "text/plain": [
       "   rideable_type          started_at            ended_at  \\\n",
       "0  electric_bike 2020-11-01 13:36:00 2020-11-01 13:45:40   \n",
       "1  electric_bike 2020-11-01 10:03:26 2020-11-01 10:14:45   \n",
       "2  electric_bike 2020-11-01 00:34:05 2020-11-01 01:03:06   \n",
       "3  electric_bike 2020-11-01 00:45:16 2020-11-01 00:54:31   \n",
       "4  electric_bike 2020-11-01 15:43:25 2020-11-01 16:16:52   \n",
       "\n",
       "          start_station_name          end_station_name  start_lat  start_lng  \\\n",
       "0      Dearborn St & Erie St    St. Clair St & Erie St  41.894177 -87.629127   \n",
       "1  Franklin St & Illinois St  Noble St & Milwaukee Ave  41.890959 -87.635343   \n",
       "2  Lake Shore Dr & Monroe St      Federal St & Polk St  41.880983 -87.616754   \n",
       "3   Leavitt St & Chicago Ave   Stave St & Armitage Ave  41.895499 -87.682013   \n",
       "4        Buckingham Fountain       Buckingham Fountain  41.876497 -87.620358   \n",
       "\n",
       "     end_lat    end_lng member_casual day_of_week   duration  start_hour  \n",
       "0  41.894434 -87.623379        casual      Sunday   9.666667          13  \n",
       "1  41.900675 -87.662480        casual      Sunday  11.316667          10  \n",
       "2  41.872054 -87.629550        casual      Sunday  29.016667           0  \n",
       "3  41.917744 -87.691392        casual      Sunday   9.250000           0  \n",
       "4  41.876448 -87.620338        casual      Sunday  33.450000          15  "
      ]
     },
     "execution_count": 7,
     "metadata": {},
     "output_type": "execute_result"
    }
   ],
   "source": [
    "# Transformation\n",
    "\n",
    "# 1. Format 'started_at' and 'ended_at' as datetime objects\n",
    "\n",
    "clean_trip_data['started_at'] = pd.to_datetime(clean_trip_data['started_at'])\n",
    "clean_trip_data['ended_at'] = pd.to_datetime(clean_trip_data['ended_at'])\n",
    "\n",
    "# 2. Creating the columns\n",
    "\n",
    "# 2.1 'Day of Week'\n",
    "clean_trip_data['day_of_week'] = clean_trip_data['started_at'].dt.day_name()\n",
    "\n",
    "# 2.2 'Duration'\n",
    "clean_trip_data['duration'] = (clean_trip_data['ended_at'] - clean_trip_data['started_at']) / pd.Timedelta(minutes=1)\n",
    "\n",
    "# 2.3 'Start hour'\n",
    "clean_trip_data['start_hour'] = clean_trip_data['started_at'].dt.hour\n",
    "\n",
    "# Checking:\n",
    "clean_trip_data.head()"
   ]
  },
  {
   "cell_type": "code",
   "execution_count": 8,
   "id": "b2f20cbd",
   "metadata": {
    "_kg_hide-input": true,
    "_kg_hide-output": true,
    "execution": {
     "iopub.execute_input": "2021-07-20T15:19:11.396309Z",
     "iopub.status.busy": "2021-07-20T15:19:11.395652Z",
     "iopub.status.idle": "2021-07-20T15:19:11.398883Z",
     "shell.execute_reply": "2021-07-20T15:19:11.398214Z",
     "shell.execute_reply.started": "2021-07-20T11:04:42.651301Z"
    },
    "papermill": {
     "duration": 0.031505,
     "end_time": "2021-07-20T15:19:11.399029",
     "exception": false,
     "start_time": "2021-07-20T15:19:11.367524",
     "status": "completed"
    },
    "tags": []
   },
   "outputs": [],
   "source": [
    "# Importing to ignore the warning for the following action.\n",
    "\n",
    "import warnings\n",
    "warnings.filterwarnings('ignore')"
   ]
  },
  {
   "cell_type": "code",
   "execution_count": 9,
   "id": "1a36a27d",
   "metadata": {
    "execution": {
     "iopub.execute_input": "2021-07-20T15:19:11.456031Z",
     "iopub.status.busy": "2021-07-20T15:19:11.455295Z",
     "iopub.status.idle": "2021-07-20T15:19:15.818414Z",
     "shell.execute_reply": "2021-07-20T15:19:15.818924Z",
     "shell.execute_reply.started": "2021-07-20T11:05:12.889377Z"
    },
    "papermill": {
     "duration": 4.395783,
     "end_time": "2021-07-20T15:19:15.819101",
     "exception": false,
     "start_time": "2021-07-20T15:19:11.423318",
     "status": "completed"
    },
    "tags": []
   },
   "outputs": [
    {
     "name": "stdout",
     "output_type": "stream",
     "text": [
      "5.34 ms ± 40.5 µs per loop (mean ± std. dev. of 7 runs, 100 loops each)\n"
     ]
    }
   ],
   "source": [
    "%%timeit\n",
    "\n",
    "# 3. Calculating the distance\n",
    "\n",
    "'''\n",
    "The 'Point()' method from geopy basically converts each lat and lng into an object of its own that allows for calculations of distances\n",
    "later on. However, the 'distance' method - which is what actually interests - can function receiving a tuple as well. Thus, we'll calculate \n",
    "the time for each ('Point' vs a list comprehension) using a small sample set. Each has to be done in a separete cell, because of the %time it\n",
    "magic function. Whichever is faster will be then passed into the entire dataframe.\n",
    "'''\n",
    "\n",
    "# Slice of the dataframe:\n",
    "test_set = clean_trip_data.head(30)\n",
    "\n",
    "# Geopy:\n",
    "test_set['start_point_geo'] = test_set.apply(lambda row: Point(latitude=row['start_lat'], longitude=row['start_lng']), axis=1)\n",
    "test_set['end_point_geo'] = test_set.apply(lambda row: Point(latitude=row['end_lat'], longitude=row['end_lng']), axis=1)"
   ]
  },
  {
   "cell_type": "code",
   "execution_count": 10,
   "id": "4ffec908",
   "metadata": {
    "execution": {
     "iopub.execute_input": "2021-07-20T15:19:15.890923Z",
     "iopub.status.busy": "2021-07-20T15:19:15.875634Z",
     "iopub.status.idle": "2021-07-20T15:19:18.386339Z",
     "shell.execute_reply": "2021-07-20T15:19:18.385618Z",
     "shell.execute_reply.started": "2021-07-20T11:05:34.855675Z"
    },
    "papermill": {
     "duration": 2.542825,
     "end_time": "2021-07-20T15:19:18.386490",
     "exception": false,
     "start_time": "2021-07-20T15:19:15.843665",
     "status": "completed"
    },
    "tags": []
   },
   "outputs": [
    {
     "name": "stdout",
     "output_type": "stream",
     "text": [
      "3.09 ms ± 146 µs per loop (mean ± std. dev. of 7 runs, 100 loops each)\n"
     ]
    }
   ],
   "source": [
    "%%timeit\n",
    "\n",
    "# Slice of the dataframe:\n",
    "test_set = clean_trip_data.head(30)\n",
    "\n",
    "# List comprehension:\n",
    "test_set['start_point_lc'] = [tuple(l) for l in test_set[['start_lat', 'start_lng']].to_numpy()]\n",
    "test_set['end_point_lc'] = [tuple(l) for l in test_set[['end_lat', 'end_lng']].to_numpy()]\n",
    "\n",
    "## Considering the results, we will proceed to use the list comprehension."
   ]
  },
  {
   "cell_type": "code",
   "execution_count": 11,
   "id": "11b1c881",
   "metadata": {
    "execution": {
     "iopub.execute_input": "2021-07-20T15:19:18.444557Z",
     "iopub.status.busy": "2021-07-20T15:19:18.443137Z",
     "iopub.status.idle": "2021-07-20T15:36:40.388263Z",
     "shell.execute_reply": "2021-07-20T15:36:40.387278Z",
     "shell.execute_reply.started": "2021-07-20T11:07:32.215430Z"
    },
    "papermill": {
     "duration": 1041.976947,
     "end_time": "2021-07-20T15:36:40.388687",
     "exception": false,
     "start_time": "2021-07-20T15:19:18.411740",
     "status": "completed"
    },
    "tags": []
   },
   "outputs": [],
   "source": [
    "# 3.1. Creating the points \n",
    "\n",
    "clean_trip_data['start_point'] = [tuple(l) for l in clean_trip_data[['start_lat', 'start_lng']].to_numpy()]\n",
    "clean_trip_data['end_point'] = [tuple(l) for l in clean_trip_data[['end_lat', 'end_lng']].to_numpy()]\n",
    "\n",
    "# 3.2. Creating a column for the distance in km\n",
    "clean_trip_data['distance'] = clean_trip_data.apply(lambda row: distance.distance(row['start_point'], row['end_point']).km, axis=1)"
   ]
  },
  {
   "cell_type": "code",
   "execution_count": 12,
   "id": "74b7376c",
   "metadata": {
    "execution": {
     "iopub.execute_input": "2021-07-20T15:36:41.528635Z",
     "iopub.status.busy": "2021-07-20T15:36:41.004019Z",
     "iopub.status.idle": "2021-07-20T15:36:41.822453Z",
     "shell.execute_reply": "2021-07-20T15:36:41.821731Z",
     "shell.execute_reply.started": "2021-07-20T12:09:28.063573Z"
    },
    "papermill": {
     "duration": 1.406305,
     "end_time": "2021-07-20T15:36:41.822595",
     "exception": false,
     "start_time": "2021-07-20T15:36:40.416290",
     "status": "completed"
    },
    "tags": []
   },
   "outputs": [],
   "source": [
    "# 3.3. Creating the coordinates\n",
    "# We'll see later, through a visualization, that the top five stations for start and finishing trips of 'casual' customers are 'Streeter Dr & \n",
    "# Grand Ave', 'Lake Shore Dr & Monroe St', 'Millennium Park', 'Theater on the Lake' and 'Michigan Ave & Oak St'.\n",
    "# With this info in mind, I'll create a dataframe that only contains a sample of 200 of these trips, where the start station is one of these. \n",
    "# Based on that, we will later plot a map of these routes. \n",
    "\n",
    "trip_coord = clean_trip_data[(clean_trip_data['member_casual'] == 'casual') & (clean_trip_data['rideable_type'] != 'docked_bike')]\n",
    "trip_coord = trip_coord.query(\"start_station_name == 'Streeter Dr & Grand Ave' or start_station_name == 'Lake Shore Dr & Monroe St' or start_station_name == 'Millennium Park' or start_station_name == 'Theater on the Lake' or start_station_name == 'Michigan Ave & Oak St'\").sample(200)\n",
    "\n",
    "# A function to transform each point into a coordinate, formatted for the plotting. \n",
    "import math\n",
    "from ast import literal_eval\n",
    "def merc(Coords):\n",
    "    Coordinates = literal_eval(Coords)\n",
    "    lat = Coordinates[0]\n",
    "    lon = Coordinates[1]\n",
    "    \n",
    "    r_major = 6378137.000\n",
    "    x = r_major * math.radians(lon)\n",
    "    scale = x/lon\n",
    "    y = 180.0/math.pi * math.log(math.tan(math.pi/4.0 + \n",
    "        lat * (math.pi/180.0)/2.0)) * scale\n",
    "    return (x, y)\n",
    "\n",
    "# Coordinates (0 indicates the starting point and 1 the ending point. x stands for lat and y stands for lng). \n",
    "trip_coord['coords_x0'] = trip_coord['start_point'].astype(str).apply(lambda x: merc(x)[0])\n",
    "trip_coord['coords_y0'] = trip_coord['start_point'].astype(str).apply(lambda x: merc(x)[1])\n",
    "trip_coord['coords_x1'] = trip_coord['end_point'].astype(str).apply(lambda x: merc(x)[0])\n",
    "trip_coord['coords_y1'] = trip_coord['end_point'].astype(str).apply(lambda x: merc(x)[1])"
   ]
  },
  {
   "cell_type": "markdown",
   "id": "1dd3da4f",
   "metadata": {
    "papermill": {
     "duration": 0.024844,
     "end_time": "2021-07-20T15:36:41.872846",
     "exception": false,
     "start_time": "2021-07-20T15:36:41.848002",
     "status": "completed"
    },
    "tags": []
   },
   "source": [
    "### Analyze\n",
    "#### Now that the data is finally clean, it is time to dive into it, perform calculations and identify trends and relationships that convey meaningful insights and ideas.\n",
    "* I have chosen to demonstrate calculations and visualizations all together. It makes more sense for documentation and to actually see the idea behind each insight.\n",
    "* The question to keep in mind derives from our business task: **based on their behavior, what could lead a 'casual' user to become an annual member?'**"
   ]
  },
  {
   "cell_type": "code",
   "execution_count": 13,
   "id": "a63891d6",
   "metadata": {
    "execution": {
     "iopub.execute_input": "2021-07-20T15:36:42.030326Z",
     "iopub.status.busy": "2021-07-20T15:36:42.029399Z",
     "iopub.status.idle": "2021-07-20T15:36:44.056071Z",
     "shell.execute_reply": "2021-07-20T15:36:44.056616Z",
     "shell.execute_reply.started": "2021-07-20T12:46:25.482076Z"
    },
    "papermill": {
     "duration": 2.158829,
     "end_time": "2021-07-20T15:36:44.056818",
     "exception": false,
     "start_time": "2021-07-20T15:36:41.897989",
     "status": "completed"
    },
    "tags": []
   },
   "outputs": [
    {
     "data": {
      "image/png": "[encoded data removed]",
      "text/plain": [
       "<Figure size 720x576 with 1 Axes>"
      ]
     },
     "metadata": {
      "needs_background": "light"
     },
     "output_type": "display_data"
    }
   ],
   "source": [
    "'''\n",
    "Topics to be explored:\n",
    "1. Most popular bikes by customer type\n",
    "2. Top 5 stations (start and end) that 'casual' customers use the most (may allow for Out of Home advertising at the location or nearby)\n",
    "3. Number of rides by user type in each day of the week\n",
    "4. Busiest starting hour by type of customer\n",
    "5. Average duration of each ride by user typer\n",
    "6. Average distance of each ride by user type\n",
    "7. Map for most popular routes of the casual customer  \n",
    "'''\n",
    "\n",
    "# 1. Most popular bikes by type of customer\n",
    "\n",
    "plt.figure(figsize=(10, 8))\n",
    "sns.set_style('whitegrid')\n",
    "sns.countplot(data=bike_types, x='member_casual', hue='rideable_type', palette='mako');\n",
    "plt.title('Rideable Type by Customer Type', fontdict={'fontsize': 15}, y=1.02);\n",
    "plt.xlabel('User type');\n",
    "plt.ylabel(None);\n",
    "plt.figtext(0.9, 0.01, 'Data licensed by Motivate International Inc.', wrap=True, horizontalalignment='right', fontsize=8);\n",
    "\n",
    "# Notes: through the following viz, we can clearly see that the proportion of casual customers using eletric bikes compared to members is\n",
    "# significant. There are a number of factors that could be behind this - pricing, availability, etc. By the data we have, though, the only\n",
    "# safe deduction is that casual customers tend to prefer eletric bikes."
   ]
  },
  {
   "cell_type": "code",
   "execution_count": 14,
   "id": "acf3d86d",
   "metadata": {
    "execution": {
     "iopub.execute_input": "2021-07-20T15:36:44.671135Z",
     "iopub.status.busy": "2021-07-20T15:36:44.670168Z",
     "iopub.status.idle": "2021-07-20T15:36:46.949425Z",
     "shell.execute_reply": "2021-07-20T15:36:46.949908Z",
     "shell.execute_reply.started": "2021-07-20T11:29:21.396353Z"
    },
    "papermill": {
     "duration": 2.866983,
     "end_time": "2021-07-20T15:36:46.950083",
     "exception": false,
     "start_time": "2021-07-20T15:36:44.083100",
     "status": "completed"
    },
    "tags": []
   },
   "outputs": [
    {
     "data": {
      "image/png": "[encoded data removed]",
      "text/plain": [
       "<Figure size 1800x576 with 2 Axes>"
      ]
     },
     "metadata": {},
     "output_type": "display_data"
    }
   ],
   "source": [
    "# 2. Top 5 stations that casual customers use the most\n",
    "\n",
    "top_st_start = pd.DataFrame(clean_trip_data[clean_trip_data['member_casual'] == 'casual'].start_station_name.\n",
    "                            value_counts().sort_values(ascending=False).head(5))\n",
    "top_st_end = pd.DataFrame(clean_trip_data[clean_trip_data['member_casual'] == 'casual'].end_station_name.\n",
    "                          value_counts().sort_values(ascending=False).head(5))\n",
    "\n",
    "fig, axs = plt.subplots(ncols=2, figsize=(25, 8))\n",
    "axs[0].set_title('Start Station by Traffic', fontdict={'fontsize': 15}, y=1.02);\n",
    "axs[1].set_title('End Station by Traffic', fontdict={'fontsize': 15}, y=1.02);\n",
    "sns.barplot(data=top_st_start, x=top_st_start.index, y='start_station_name', ax=axs[0], palette='mako');\n",
    "sns.barplot(data=top_st_end, x=top_st_end.index, y='end_station_name', ax=axs[1], palette='mako');\n",
    "plt.figtext(0.9, 0.01, 'Data licensed by Motivate International Inc.', wrap=True, horizontalalignment='right', fontsize=8);\n",
    "\n",
    "# Notes: the busiest stations for casual users are very well defined. That allows for our marketing team to survey what would be the best \n",
    "# options in terms of position and pricing to place 'out of home' advertisements - either on the stations or nearby."
   ]
  },
  {
   "cell_type": "code",
   "execution_count": 15,
   "id": "c7b26372",
   "metadata": {
    "execution": {
     "iopub.execute_input": "2021-07-20T15:36:47.361410Z",
     "iopub.status.busy": "2021-07-20T15:36:47.360693Z",
     "iopub.status.idle": "2021-07-20T15:36:54.834690Z",
     "shell.execute_reply": "2021-07-20T15:36:54.835186Z",
     "shell.execute_reply.started": "2021-07-20T12:48:41.028920Z"
    },
    "papermill": {
     "duration": 7.8569,
     "end_time": "2021-07-20T15:36:54.835363",
     "exception": false,
     "start_time": "2021-07-20T15:36:46.978463",
     "status": "completed"
    },
    "tags": []
   },
   "outputs": [
    {
     "data": {
      "image/png": "[encoded data removed]",
      "text/plain": [
       "<Figure size 864x648 with 1 Axes>"
      ]
     },
     "metadata": {},
     "output_type": "display_data"
    }
   ],
   "source": [
    "# 3. Number of rides by user type in each day of the week\n",
    "\n",
    "plt.figure(figsize=(12, 9))\n",
    "sns.countplot(data=clean_trip_data, x='day_of_week', hue='member_casual', palette='mako', saturation=1);\n",
    "plt.title('Rides per day of week, by user type', loc='left', fontdict={'fontsize': 15}, y=1.02);\n",
    "plt.xlabel('Day of Week');\n",
    "plt.ylabel(None);\n",
    "plt.figtext(0.9, 0.01, 'Data licensed by Motivate International Inc.', wrap=True, horizontalalignment='right', fontsize=8);\n",
    "\n",
    "# Notes: there's a clear increase of casual members' usage on Friday and weekends, whilst annual members tend to have a more steady activity\n",
    "# throughout the week. It's also safe to assume that once casual customers become annual members, they should adopt a similar behavior.\n",
    "# Our marketing team could use this information to prompt these customers (e.g. sending an e-mail marketing on Thursday or Friday)."
   ]
  },
  {
   "cell_type": "code",
   "execution_count": 16,
   "id": "641eea74",
   "metadata": {
    "execution": {
     "iopub.execute_input": "2021-07-20T15:36:54.901083Z",
     "iopub.status.busy": "2021-07-20T15:36:54.899976Z",
     "iopub.status.idle": "2021-07-20T15:36:58.510478Z",
     "shell.execute_reply": "2021-07-20T15:36:58.510935Z",
     "shell.execute_reply.started": "2021-07-20T12:48:49.280891Z"
    },
    "papermill": {
     "duration": 3.647061,
     "end_time": "2021-07-20T15:36:58.511108",
     "exception": false,
     "start_time": "2021-07-20T15:36:54.864047",
     "status": "completed"
    },
    "tags": []
   },
   "outputs": [
    {
     "data": {
      "image/png": "[encoded data removed]",
      "text/plain": [
       "<Figure size 1440x648 with 1 Axes>"
      ]
     },
     "metadata": {},
     "output_type": "display_data"
    }
   ],
   "source": [
    "# 4. Busiest starting hour by type of customer\n",
    "\n",
    "plt.figure(figsize=(20, 9))\n",
    "sns.countplot(data=clean_trip_data, x='start_hour', hue='member_casual', palette='bright', saturation=1);\n",
    "plt.title('Busiest hours of the day by user type', loc='left', fontdict={'fontsize': 18}, y=1.02);\n",
    "plt.xlabel('Hour of the day', fontdict={'fontsize': 12});\n",
    "plt.ylabel(None);\n",
    "plt.figtext(0.9, 0.01, 'Data licensed by Motivate International Inc.', wrap=True, horizontalalignment='right', fontsize=8);\n",
    "\n",
    "# Notes: the usage pattern of casual members seems normally distributed yet slightly left skewed. In other words, as the day goes by, the \n",
    "# number of rides increase even more for this user type. The range between 12pm-7pm should be the most fruitful for marketing campaigns in loco."
   ]
  },
  {
   "cell_type": "code",
   "execution_count": 17,
   "id": "bf7c373b",
   "metadata": {
    "execution": {
     "iopub.execute_input": "2021-07-20T15:36:58.585035Z",
     "iopub.status.busy": "2021-07-20T15:36:58.584168Z",
     "iopub.status.idle": "2021-07-20T15:36:59.474182Z",
     "shell.execute_reply": "2021-07-20T15:36:59.474660Z",
     "shell.execute_reply.started": "2021-07-20T12:49:09.143572Z"
    },
    "papermill": {
     "duration": 0.934007,
     "end_time": "2021-07-20T15:36:59.474855",
     "exception": false,
     "start_time": "2021-07-20T15:36:58.540848",
     "status": "completed"
    },
    "tags": []
   },
   "outputs": [
    {
     "data": {
      "text/html": [
       "<div>\n",
       "<style scoped>\n",
       "    .dataframe tbody tr th:only-of-type {\n",
       "        vertical-align: middle;\n",
       "    }\n",
       "\n",
       "    .dataframe tbody tr th {\n",
       "        vertical-align: top;\n",
       "    }\n",
       "\n",
       "    .dataframe thead th {\n",
       "        text-align: right;\n",
       "    }\n",
       "</style>\n",
       "<table border=\"1\" class=\"dataframe\">\n",
       "  <thead>\n",
       "    <tr style=\"text-align: right;\">\n",
       "      <th>member_casual</th>\n",
       "      <th>casual</th>\n",
       "      <th>member</th>\n",
       "    </tr>\n",
       "  </thead>\n",
       "  <tbody>\n",
       "    <tr>\n",
       "      <th>duration</th>\n",
       "      <td>43.690969</td>\n",
       "      <td>12.241975</td>\n",
       "    </tr>\n",
       "    <tr>\n",
       "      <th>distance</th>\n",
       "      <td>2.150786</td>\n",
       "      <td>2.250423</td>\n",
       "    </tr>\n",
       "  </tbody>\n",
       "</table>\n",
       "</div>"
      ],
      "text/plain": [
       "member_casual     casual     member\n",
       "duration       43.690969  12.241975\n",
       "distance        2.150786   2.250423"
      ]
     },
     "execution_count": 17,
     "metadata": {},
     "output_type": "execute_result"
    }
   ],
   "source": [
    "# Before plotting the graphs 5 (Average duration of each ride by type of customer) and 6 (Average distance of each ride by type of customer),\n",
    "# I believe it would be useful to visualize it in a dataframe format:\n",
    "\n",
    "clean_trip_data.groupby('member_casual').mean()[['duration', 'distance']].transpose()\n",
    "\n",
    "# The mean distance between casual and annual members is almost identical. The mean duration, however, is significantly different - the unit\n",
    "# of measure is minutes. One reason behind this might be that as casual customers tend to have a higher usage on the weekends, so they are less \n",
    "# attached to the duration of their rides. Or even that some people use it for longer rides (perhaps with family and/or friends) and it ends up \n",
    "# skewing the average."
   ]
  },
  {
   "cell_type": "code",
   "execution_count": 18,
   "id": "92147148",
   "metadata": {
    "execution": {
     "iopub.execute_input": "2021-07-20T15:36:59.579382Z",
     "iopub.status.busy": "2021-07-20T15:36:59.575438Z",
     "iopub.status.idle": "2021-07-20T15:37:00.651538Z",
     "shell.execute_reply": "2021-07-20T15:37:00.652170Z",
     "shell.execute_reply.started": "2021-07-20T12:49:23.100717Z"
    },
    "papermill": {
     "duration": 1.147366,
     "end_time": "2021-07-20T15:37:00.652376",
     "exception": false,
     "start_time": "2021-07-20T15:36:59.505010",
     "status": "completed"
    },
    "tags": []
   },
   "outputs": [
    {
     "data": {
      "image/png": "[encoded data removed]",
      "text/plain": [
       "<Figure size 1800x576 with 2 Axes>"
      ]
     },
     "metadata": {},
     "output_type": "display_data"
    }
   ],
   "source": [
    "fig, axs = plt.subplots(ncols=2, figsize=(25, 8))\n",
    "axs[0].set_title('Average duration by customer type', fontdict={'fontsize': 15}, y=1.02);\n",
    "axs[1].set_title('Average distance by customer type', fontdict={'fontsize': 15}, y=1.02);\n",
    "\n",
    "# 5. Average duration of each ride by type of customer\n",
    "\n",
    "data = clean_trip_data.groupby('member_casual').mean()[['duration', 'distance']]\n",
    "sns.barplot(data=data, x=data.index, y='duration', ax=axs[0], palette='bright', saturation=1);\n",
    "\n",
    "# 6. Average distance of each ride by type of customer\n",
    "\n",
    "sns.barplot(data=data, x=data.index, y='distance', ax=axs[1], palette='bright', saturation=1);\n",
    "\n",
    "plt.figtext(0.9, 0.01, 'Data licensed by Motivate International Inc.', wrap=True, horizontalalignment='right', fontsize=8);"
   ]
  },
  {
   "cell_type": "code",
   "execution_count": 19,
   "id": "687297f7",
   "metadata": {
    "execution": {
     "iopub.execute_input": "2021-07-20T15:37:00.743955Z",
     "iopub.status.busy": "2021-07-20T15:37:00.743267Z",
     "iopub.status.idle": "2021-07-20T15:37:00.784081Z",
     "shell.execute_reply": "2021-07-20T15:37:00.783527Z",
     "shell.execute_reply.started": "2021-07-20T12:47:55.463903Z"
    },
    "papermill": {
     "duration": 0.100336,
     "end_time": "2021-07-20T15:37:00.784223",
     "exception": false,
     "start_time": "2021-07-20T15:37:00.683887",
     "status": "completed"
    },
    "tags": []
   },
   "outputs": [
    {
     "data": {
      "text/html": [
       "\n",
       "    <div class=\"bk-root\">\n",
       "        <a href=\"https://bokeh.org\" target=\"_blank\" class=\"bk-logo bk-logo-small bk-logo-notebook\"></a>\n",
       "        <span id=\"1052\">Loading BokehJS ...</span>\n",
       "    </div>"
      ]
     },
     "metadata": {},
     "output_type": "display_data"
    },
    {
     "data": {
      "application/javascript": [
       "\n",
       "(function(root) {\n",
       "  function now() {\n",
       "    return new Date();\n",
       "  }\n",
       "\n",
       "  var force = true;\n",
       "\n",
       "  if (typeof root._bokeh_onload_callbacks === \"undefined\" || force === true) {\n",
       "    root._bokeh_onload_callbacks = [];\n",
       "    root._bokeh_is_loading = undefined;\n",
       "  }\n",
       "\n",
       "  var JS_MIME_TYPE = 'application/javascript';\n",
       "  var HTML_MIME_TYPE = 'text/html';\n",
       "  var EXEC_MIME_TYPE = 'application/vnd.bokehjs_exec.v0+json';\n",
       "  var CLASS_NAME = 'output_bokeh rendered_html';\n",
       "\n",
       "  /**\n",
       "   * Render data to the DOM node\n",
       "   */\n",
       "  function render(props, node) {\n",
       "    var script = document.createElement(\"script\");\n",
       "    node.appendChild(script);\n",
       "  }\n",
       "\n",
       "  /**\n",
       "   * Handle when an output is cleared or removed\n",
       "   */\n",
       "  function handleClearOutput(event, handle) {\n",
       "    var cell = handle.cell;\n",
       "\n",
       "    var id = cell.output_area._bokeh_element_id;\n",
       "    var server_id = cell.output_area._bokeh_server_id;\n",
       "    // Clean up Bokeh references\n",
       "    if (id != null && id in Bokeh.index) {\n",
       "      Bokeh.index[id].model.document.clear();\n",
       "      delete Bokeh.index[id];\n",
       "    }\n",
       "\n",
       "    if (server_id !== undefined) {\n",
       "      // Clean up Bokeh references\n",
       "      var cmd = \"from bokeh.io.state import curstate; print(curstate().uuid_to_server['\" + server_id + \"'].get_sessions()[0].document.roots[0]._id)\";\n",
       "      cell.notebook.kernel.execute(cmd, {\n",
       "        iopub: {\n",
       "          output: function(msg) {\n",
       "            var id = msg.content.text.trim();\n",
       "            if (id in Bokeh.index) {\n",
       "              Bokeh.index[id].model.document.clear();\n",
       "              delete Bokeh.index[id];\n",
       "            }\n",
       "          }\n",
       "        }\n",
       "      });\n",
       "      // Destroy server and session\n",
       "      var cmd = \"import bokeh.io.notebook as ion; ion.destroy_server('\" + server_id + \"')\";\n",
       "      cell.notebook.kernel.execute(cmd);\n",
       "    }\n",
       "  }\n",
       "\n",
       "  /**\n",
       "   * Handle when a new output is added\n",
       "   */\n",
       "  function handleAddOutput(event, handle) {\n",
       "    var output_area = handle.output_area;\n",
       "    var output = handle.output;\n",
       "\n",
       "    // limit handleAddOutput to display_data with EXEC_MIME_TYPE content only\n",
       "    if ((output.output_type != \"display_data\") || (!Object.prototype.hasOwnProperty.call(output.data, EXEC_MIME_TYPE))) {\n",
       "      return\n",
       "    }\n",
       "\n",
       "    var toinsert = output_area.element.find(\".\" + CLASS_NAME.split(' ')[0]);\n",
       "\n",
       "    if (output.metadata[EXEC_MIME_TYPE][\"id\"] !== undefined) {\n",
       "      toinsert[toinsert.length - 1].firstChild.textContent = output.data[JS_MIME_TYPE];\n",
       "      // store reference to embed id on output_area\n",
       "      output_area._bokeh_element_id = output.metadata[EXEC_MIME_TYPE][\"id\"];\n",
       "    }\n",
       "    if (output.metadata[EXEC_MIME_TYPE][\"server_id\"] !== undefined) {\n",
       "      var bk_div = document.createElement(\"div\");\n",
       "      bk_div.innerHTML = output.data[HTML_MIME_TYPE];\n",
       "      var script_attrs = bk_div.children[0].attributes;\n",
       "      for (var i = 0; i < script_attrs.length; i++) {\n",
       "        toinsert[toinsert.length - 1].firstChild.setAttribute(script_attrs[i].name, script_attrs[i].value);\n",
       "        toinsert[toinsert.length - 1].firstChild.textContent = bk_div.children[0].textContent\n",
       "      }\n",
       "      // store reference to server id on output_area\n",
       "      output_area._bokeh_server_id = output.metadata[EXEC_MIME_TYPE][\"server_id\"];\n",
       "    }\n",
       "  }\n",
       "\n",
       "  function register_renderer(events, OutputArea) {\n",
       "\n",
       "    function append_mime(data, metadata, element) {\n",
       "      // create a DOM node to render to\n",
       "      var toinsert = this.create_output_subarea(\n",
       "        metadata,\n",
       "        CLASS_NAME,\n",
       "        EXEC_MIME_TYPE\n",
       "      );\n",
       "      this.keyboard_manager.register_events(toinsert);\n",
       "      // Render to node\n",
       "      var props = {data: data, metadata: metadata[EXEC_MIME_TYPE]};\n",
       "      render(props, toinsert[toinsert.length - 1]);\n",
       "      element.append(toinsert);\n",
       "      return toinsert\n",
       "    }\n",
       "\n",
       "    /* Handle when an output is cleared or removed */\n",
       "    events.on('clear_output.CodeCell', handleClearOutput);\n",
       "    events.on('delete.Cell', handleClearOutput);\n",
       "\n",
       "    /* Handle when a new output is added */\n",
       "    events.on('output_added.OutputArea', handleAddOutput);\n",
       "\n",
       "    /**\n",
       "     * Register the mime type and append_mime function with output_area\n",
       "     */\n",
       "    OutputArea.prototype.register_mime_type(EXEC_MIME_TYPE, append_mime, {\n",
       "      /* Is output safe? */\n",
       "      safe: true,\n",
       "      /* Index of renderer in `output_area.display_order` */\n",
       "      index: 0\n",
       "    });\n",
       "  }\n",
       "\n",
       "  // register the mime type if in Jupyter Notebook environment and previously unregistered\n",
       "  if (root.Jupyter !== undefined) {\n",
       "    var events = require('base/js/events');\n",
       "    var OutputArea = require('notebook/js/outputarea').OutputArea;\n",
       "\n",
       "    if (OutputArea.prototype.mime_types().indexOf(EXEC_MIME_TYPE) == -1) {\n",
       "      register_renderer(events, OutputArea);\n",
       "    }\n",
       "  }\n",
       "\n",
       "  \n",
       "  if (typeof (root._bokeh_timeout) === \"undefined\" || force === true) {\n",
       "    root._bokeh_timeout = Date.now() + 5000;\n",
       "    root._bokeh_failed_load = false;\n",
       "  }\n",
       "\n",
       "  var NB_LOAD_WARNING = {'data': {'text/html':\n",
       "     \"<div style='background-color: #fdd'>\\n\"+\n",
       "     \"<p>\\n\"+\n",
       "     \"BokehJS does not appear to have successfully loaded. If loading BokehJS from CDN, this \\n\"+\n",
       "     \"may be due to a slow or bad network connection. Possible fixes:\\n\"+\n",
       "     \"</p>\\n\"+\n",
       "     \"<ul>\\n\"+\n",
       "     \"<li>re-rerun `output_notebook()` to attempt to load from CDN again, or</li>\\n\"+\n",
       "     \"<li>use INLINE resources instead, as so:</li>\\n\"+\n",
       "     \"</ul>\\n\"+\n",
       "     \"<code>\\n\"+\n",
       "     \"from bokeh.resources import INLINE\\n\"+\n",
       "     \"output_notebook(resources=INLINE)\\n\"+\n",
       "     \"</code>\\n\"+\n",
       "     \"</div>\"}};\n",
       "\n",
       "  function display_loaded() {\n",
       "    var el = document.getElementById(\"1052\");\n",
       "    if (el != null) {\n",
       "      el.textContent = \"BokehJS is loading...\";\n",
       "    }\n",
       "    if (root.Bokeh !== undefined) {\n",
       "      if (el != null) {\n",
       "        el.textContent = \"BokehJS \" + root.Bokeh.version + \" successfully loaded.\";\n",
       "      }\n",
       "    } else if (Date.now() < root._bokeh_timeout) {\n",
       "      setTimeout(display_loaded, 100)\n",
       "    }\n",
       "  }\n",
       "\n",
       "\n",
       "  function run_callbacks() {\n",
       "    try {\n",
       "      root._bokeh_onload_callbacks.forEach(function(callback) {\n",
       "        if (callback != null)\n",
       "          callback();\n",
       "      });\n",
       "    } finally {\n",
       "      delete root._bokeh_onload_callbacks\n",
       "    }\n",
       "    console.debug(\"Bokeh: all callbacks have finished\");\n",
       "  }\n",
       "\n",
       "  function load_libs(css_urls, js_urls, callback) {\n",
       "    if (css_urls == null) css_urls = [];\n",
       "    if (js_urls == null) js_urls = [];\n",
       "\n",
       "    root._bokeh_onload_callbacks.push(callback);\n",
       "    if (root._bokeh_is_loading > 0) {\n",
       "      console.debug(\"Bokeh: BokehJS is being loaded, scheduling callback at\", now());\n",
       "      return null;\n",
       "    }\n",
       "    if (js_urls == null || js_urls.length === 0) {\n",
       "      run_callbacks();\n",
       "      return null;\n",
       "    }\n",
       "    console.debug(\"Bokeh: BokehJS not loaded, scheduling load and callback at\", now());\n",
       "    root._bokeh_is_loading = css_urls.length + js_urls.length;\n",
       "\n",
       "    function on_load() {\n",
       "      root._bokeh_is_loading--;\n",
       "      if (root._bokeh_is_loading === 0) {\n",
       "        console.debug(\"Bokeh: all BokehJS libraries/stylesheets loaded\");\n",
       "        run_callbacks()\n",
       "      }\n",
       "    }\n",
       "\n",
       "    function on_error(url) {\n",
       "      console.error(\"failed to load \" + url);\n",
       "    }\n",
       "\n",
       "    for (let i = 0; i < css_urls.length; i++) {\n",
       "      const url = css_urls[i];\n",
       "      const element = document.createElement(\"link\");\n",
       "      element.onload = on_load;\n",
       "      element.onerror = on_error.bind(null, url);\n",
       "      element.rel = \"stylesheet\";\n",
       "      element.type = \"text/css\";\n",
       "      element.href = url;\n",
       "      console.debug(\"Bokeh: injecting link tag for BokehJS stylesheet: \", url);\n",
       "      document.body.appendChild(element);\n",
       "    }\n",
       "\n",
       "    const hashes = {\"https://cdn.bokeh.org/bokeh/release/bokeh-2.3.2.min.js\": \"XypntL49z55iwGVUW4qsEu83zKL3XEcz0MjuGOQ9SlaaQ68X/g+k1FcioZi7oQAc\", \"https://cdn.bokeh.org/bokeh/release/bokeh-tables-2.3.2.min.js\": \"bEsM86IHGDTLCS0Zod8a8WM6Y4+lafAL/eSiyQcuPzinmWNgNO2/olUF0Z2Dkn5i\", \"https://cdn.bokeh.org/bokeh/release/bokeh-widgets-2.3.2.min.js\": \"TX0gSQTdXTTeScqxj6PVQxTiRW8DOoGVwinyi1D3kxv7wuxQ02XkOxv0xwiypcAH\"};\n",
       "\n",
       "    for (let i = 0; i < js_urls.length; i++) {\n",
       "      const url = js_urls[i];\n",
       "      const element = document.createElement('script');\n",
       "      element.onload = on_load;\n",
       "      element.onerror = on_error.bind(null, url);\n",
       "      element.async = false;\n",
       "      element.src = url;\n",
       "      if (url in hashes) {\n",
       "        element.crossOrigin = \"anonymous\";\n",
       "        element.integrity = \"sha384-\" + hashes[url];\n",
       "      }\n",
       "      console.debug(\"Bokeh: injecting script tag for BokehJS library: \", url);\n",
       "      document.head.appendChild(element);\n",
       "    }\n",
       "  };\n",
       "\n",
       "  function inject_raw_css(css) {\n",
       "    const element = document.createElement(\"style\");\n",
       "    element.appendChild(document.createTextNode(css));\n",
       "    document.body.appendChild(element);\n",
       "  }\n",
       "\n",
       "  \n",
       "  var js_urls = [\"https://cdn.bokeh.org/bokeh/release/bokeh-2.3.2.min.js\", \"https://cdn.bokeh.org/bokeh/release/bokeh-widgets-2.3.2.min.js\", \"https://cdn.bokeh.org/bokeh/release/bokeh-tables-2.3.2.min.js\"];\n",
       "  var css_urls = [];\n",
       "  \n",
       "\n",
       "  var inline_js = [\n",
       "    function(Bokeh) {\n",
       "      Bokeh.set_log_level(\"info\");\n",
       "    },\n",
       "    function(Bokeh) {\n",
       "    \n",
       "    \n",
       "    }\n",
       "  ];\n",
       "\n",
       "  function run_inline_js() {\n",
       "    \n",
       "    if (root.Bokeh !== undefined || force === true) {\n",
       "      \n",
       "    for (var i = 0; i < inline_js.length; i++) {\n",
       "      inline_js[i].call(root, root.Bokeh);\n",
       "    }\n",
       "    if (force === true) {\n",
       "        display_loaded();\n",
       "      }} else if (Date.now() < root._bokeh_timeout) {\n",
       "      setTimeout(run_inline_js, 100);\n",
       "    } else if (!root._bokeh_failed_load) {\n",
       "      console.log(\"Bokeh: BokehJS failed to load within specified timeout.\");\n",
       "      root._bokeh_failed_load = true;\n",
       "    } else if (force !== true) {\n",
       "      var cell = $(document.getElementById(\"1052\")).parents('.cell').data().cell;\n",
       "      cell.output_area.append_execute_result(NB_LOAD_WARNING)\n",
       "    }\n",
       "\n",
       "  }\n",
       "\n",
       "  if (root._bokeh_is_loading === 0) {\n",
       "    console.debug(\"Bokeh: BokehJS loaded, going straight to plotting\");\n",
       "    run_inline_js();\n",
       "  } else {\n",
       "    load_libs(css_urls, js_urls, function() {\n",
       "      console.debug(\"Bokeh: BokehJS plotting callback run at\", now());\n",
       "      run_inline_js();\n",
       "    });\n",
       "  }\n",
       "}(window));"
      ],
      "application/vnd.bokehjs_load.v0+json": "\n(function(root) {\n  function now() {\n    return new Date();\n  }\n\n  var force = true;\n\n  if (typeof root._bokeh_onload_callbacks === \"undefined\" || force === true) {\n    root._bokeh_onload_callbacks = [];\n    root._bokeh_is_loading = undefined;\n  }\n\n  \n\n  \n  if (typeof (root._bokeh_timeout) === \"undefined\" || force === true) {\n    root._bokeh_timeout = Date.now() + 5000;\n    root._bokeh_failed_load = false;\n  }\n\n  var NB_LOAD_WARNING = {'data': {'text/html':\n     \"<div style='background-color: #fdd'>\\n\"+\n     \"<p>\\n\"+\n     \"BokehJS does not appear to have successfully loaded. If loading BokehJS from CDN, this \\n\"+\n     \"may be due to a slow or bad network connection. Possible fixes:\\n\"+\n     \"</p>\\n\"+\n     \"<ul>\\n\"+\n     \"<li>re-rerun `output_notebook()` to attempt to load from CDN again, or</li>\\n\"+\n     \"<li>use INLINE resources instead, as so:</li>\\n\"+\n     \"</ul>\\n\"+\n     \"<code>\\n\"+\n     \"from bokeh.resources import INLINE\\n\"+\n     \"output_notebook(resources=INLINE)\\n\"+\n     \"</code>\\n\"+\n     \"</div>\"}};\n\n  function display_loaded() {\n    var el = document.getElementById(\"1052\");\n    if (el != null) {\n      el.textContent = \"BokehJS is loading...\";\n    }\n    if (root.Bokeh !== undefined) {\n      if (el != null) {\n        el.textContent = \"BokehJS \" + root.Bokeh.version + \" successfully loaded.\";\n      }\n    } else if (Date.now() < root._bokeh_timeout) {\n      setTimeout(display_loaded, 100)\n    }\n  }\n\n\n  function run_callbacks() {\n    try {\n      root._bokeh_onload_callbacks.forEach(function(callback) {\n        if (callback != null)\n          callback();\n      });\n    } finally {\n      delete root._bokeh_onload_callbacks\n    }\n    console.debug(\"Bokeh: all callbacks have finished\");\n  }\n\n  function load_libs(css_urls, js_urls, callback) {\n    if (css_urls == null) css_urls = [];\n    if (js_urls == null) js_urls = [];\n\n    root._bokeh_onload_callbacks.push(callback);\n    if (root._bokeh_is_loading > 0) {\n      console.debug(\"Bokeh: BokehJS is being loaded, scheduling callback at\", now());\n      return null;\n    }\n    if (js_urls == null || js_urls.length === 0) {\n      run_callbacks();\n      return null;\n    }\n    console.debug(\"Bokeh: BokehJS not loaded, scheduling load and callback at\", now());\n    root._bokeh_is_loading = css_urls.length + js_urls.length;\n\n    function on_load() {\n      root._bokeh_is_loading--;\n      if (root._bokeh_is_loading === 0) {\n        console.debug(\"Bokeh: all BokehJS libraries/stylesheets loaded\");\n        run_callbacks()\n      }\n    }\n\n    function on_error(url) {\n      console.error(\"failed to load \" + url);\n    }\n\n    for (let i = 0; i < css_urls.length; i++) {\n      const url = css_urls[i];\n      const element = document.createElement(\"link\");\n      element.onload = on_load;\n      element.onerror = on_error.bind(null, url);\n      element.rel = \"stylesheet\";\n      element.type = \"text/css\";\n      element.href = url;\n      console.debug(\"Bokeh: injecting link tag for BokehJS stylesheet: \", url);\n      document.body.appendChild(element);\n    }\n\n    const hashes = {\"https://cdn.bokeh.org/bokeh/release/bokeh-2.3.2.min.js\": \"XypntL49z55iwGVUW4qsEu83zKL3XEcz0MjuGOQ9SlaaQ68X/g+k1FcioZi7oQAc\", \"https://cdn.bokeh.org/bokeh/release/bokeh-tables-2.3.2.min.js\": \"bEsM86IHGDTLCS0Zod8a8WM6Y4+lafAL/eSiyQcuPzinmWNgNO2/olUF0Z2Dkn5i\", \"https://cdn.bokeh.org/bokeh/release/bokeh-widgets-2.3.2.min.js\": \"TX0gSQTdXTTeScqxj6PVQxTiRW8DOoGVwinyi1D3kxv7wuxQ02XkOxv0xwiypcAH\"};\n\n    for (let i = 0; i < js_urls.length; i++) {\n      const url = js_urls[i];\n      const element = document.createElement('script');\n      element.onload = on_load;\n      element.onerror = on_error.bind(null, url);\n      element.async = false;\n      element.src = url;\n      if (url in hashes) {\n        element.crossOrigin = \"anonymous\";\n        element.integrity = \"sha384-\" + hashes[url];\n      }\n      console.debug(\"Bokeh: injecting script tag for BokehJS library: \", url);\n      document.head.appendChild(element);\n    }\n  };\n\n  function inject_raw_css(css) {\n    const element = document.createElement(\"style\");\n    element.appendChild(document.createTextNode(css));\n    document.body.appendChild(element);\n  }\n\n  \n  var js_urls = [\"https://cdn.bokeh.org/bokeh/release/bokeh-2.3.2.min.js\", \"https://cdn.bokeh.org/bokeh/release/bokeh-widgets-2.3.2.min.js\", \"https://cdn.bokeh.org/bokeh/release/bokeh-tables-2.3.2.min.js\"];\n  var css_urls = [];\n  \n\n  var inline_js = [\n    function(Bokeh) {\n      Bokeh.set_log_level(\"info\");\n    },\n    function(Bokeh) {\n    \n    \n    }\n  ];\n\n  function run_inline_js() {\n    \n    if (root.Bokeh !== undefined || force === true) {\n      \n    for (var i = 0; i < inline_js.length; i++) {\n      inline_js[i].call(root, root.Bokeh);\n    }\n    if (force === true) {\n        display_loaded();\n      }} else if (Date.now() < root._bokeh_timeout) {\n      setTimeout(run_inline_js, 100);\n    } else if (!root._bokeh_failed_load) {\n      console.log(\"Bokeh: BokehJS failed to load within specified timeout.\");\n      root._bokeh_failed_load = true;\n    } else if (force !== true) {\n      var cell = $(document.getElementById(\"1052\")).parents('.cell').data().cell;\n      cell.output_area.append_execute_result(NB_LOAD_WARNING)\n    }\n\n  }\n\n  if (root._bokeh_is_loading === 0) {\n    console.debug(\"Bokeh: BokehJS loaded, going straight to plotting\");\n    run_inline_js();\n  } else {\n    load_libs(css_urls, js_urls, function() {\n      console.debug(\"Bokeh: BokehJS plotting callback run at\", now());\n      run_inline_js();\n    });\n  }\n}(window));"
     },
     "metadata": {},
     "output_type": "display_data"
    },
    {
     "data": {
      "text/html": [
       "\n",
       "\n",
       "\n",
       "\n",
       "\n",
       "\n",
       "  <div class=\"bk-root\" id=\"7ec478a2-22e4-4243-b668-303871a45a17\" data-root-id=\"1002\"></div>\n"
      ]
     },
     "metadata": {},
     "output_type": "display_data"
    },
    {
     "data": {
      "application/javascript": [
       "(function(root) {\n",
       "  function embed_document(root) {\n",
       "    \n",
       "  var docs_json = {\"1123538a-b788-43ee-9323-67c860d4d6f3\":{\"defs\":[],\"roots\":{\"references\":[{\"attributes\":{\"below\":[{\"id\":\"1011\"}],\"center\":[{\"id\":\"1018\"},{\"id\":\"1026\"}],\"left\":[{\"id\":\"1019\"}],\"renderers\":[{\"id\":\"1042\"},{\"id\":\"1046\"}],\"title\":{\"id\":\"1048\"},\"toolbar\":{\"id\":\"1034\"},\"x_range\":{\"id\":\"1003\"},\"x_scale\":{\"id\":\"1007\"},\"y_range\":{\"id\":\"1005\"},\"y_scale\":{\"id\":\"1009\"}},\"id\":\"1002\",\"subtype\":\"Figure\",\"type\":\"Plot\"},{\"attributes\":{\"data\":{\"x\":{\"__ndarray__\":\"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\",\"dtype\":\"float64\",\"order\":\"little\",\"shape\":[200]},\"xm01\":{\"__ndarray__\":\"cFl2CeKaYsFioOgzLp1iwYND8H7TmmLBdjRCSaGbYsEvizJ6MZtiwc+nhhT5nGLBA/C3iH2bYsFoHo1x8JpiwVw452ZtmmLBWnvxOn2bYsFOK4jhZZtiwShTJ3lkm2LBU9wiu6KbYsEJ3+OGt5xiwVw452ZtmmLBS9biliqaYsEFqO9QbZpiwfveQ8nSmmLBGTNDhJ+bYsGb4LkpU5liwVw452ZtmmLBaqWfgL2dYsHEb1YUTppiwah1SyRummLB62yIqcGaYsFnXbQwvZtiwVPQb+bbmmLB+K4zunuZYsFbLHGPLZxiwV6gfT45mWLBaKhzACyaYsFTzFOO05piwdR2y+WEm2LBfyy6HzObYsGEwcbh9ZliwfYsE1XGmmLBBpq6o4qaYsGbZk1Gz5piwcpRuI7qmWLBXDjnZm2aYsGDQ/B+05piwRbHlStAm2LB1ad3aiScYsFhl29m+ZpiwZe2boBtmmLBkxUvFwabYsFT3CK7optiwemWFjFmm2LBxxAn4emaYsFiVkah7ppiwSGolDU0m2LBZC1gr6GbYsFAwCdNzZpiwaos9UeNmmLBm2ZNRs+aYsH68l7TX5tiwS+imv4xnGLBYZdvZvmaYsF/TN1f2ppiwVw452ZtmmLB1DFdtzaaYsFcOOdmbZpiwVMu8OBlm2LB0rfXCn2aYsGRDtEfcptiwSFG24LqmmLBDvjxvDSbYsFTzFOO05piwQUHC79Am2LByxW8EC+aYsHExd1hHJtiwVPMU47TmmLBFHgJaNaaYsEG/y5ybZpiwYJQSx8inGLB1DFdtzaaYsFx31iMoZtiwQEelut2m2LBaKhzACyaYsHANbD6kppiwVw452ZtmmLBxNk83m2aYsFZiG3SBJtiwec/klt4m2LB3ebUMwqcYsHwwMkJxZpiwS+LMnoxm2LB2HVgJQyeYsHEb1YUTppiwQJK1P54mmLBmNoHdlucYsFcOOdmbZpiwS+LMnoxm2LBaMp3T9iaYsFB9GhdfZ5iwZtmTUbPmmLBIURHHtKaYsELkBYxe5xiwZtmTUbPmmLBXDjnZm2aYsGaeEWL6ZliwWiocwAsmmLBLImmCxicYsF4cTyRpZtiwdikkh8qnGLBSl/vGNKaYsEOFzNZoppiwVnBawSMnWLBXDjnZm2aYsF0WicpPppiwckfp7t+mmLBU9wiu6KbYsGaeEWL6ZliwZtmTUbPmmLBtJmBEcWaYsFcOOdmbZpiwcnrznVym2LBaKhzACyaYsGLpb0C1JpiwYZJ8WAKm2LBTiuI4WWbYsFiaxsDAJ1iwXKORHw5nGLBcbGQeZ+aYsE0vobL05piwWiocwAsmmLBqsIOfm2aYsGLpb0C1JpiwewyMUl9m2LB1HbL5YSbYsGbjjmufJpiwQ6UpKXSmmLB07pHAHybYsHUMV23NppiwVw452ZtmmLB7DrtF1qaYsGcjtYK6ptiwf2hQs34mmLBJiRi3kKbYsGr4ekPW5xiwZLqMD5cnGLBU8xTjtOaYsEAtw85C5xiwVPMU47TmmLBr+jay6KaYsFTzFOO05piwfH0u+s1m2LBaKhzACyaYsEhREce0ppiwTMQEcH7nGLBL4syejGbYsFx31iMoZtiwZtmTUbPmmLBWce2yjObYsFY7ljI0J5iwfh9bVtFm2LBlTFOSzGcYsFTzFOO05piwaKvB5zTmmLBLlravCCcYsGnJc2u1ZpiwVPMU47TmmLB1xPHJ9KaYsF0WicpPppiwecuoVDTmmLBtpyCI3WbYsFoqHMALJpiwbTFRZo2mmLBTiuI4WWbYsHExd1hHJtiwVPMU47TmmLBrSGcwZGZYsHEb1YUTppiwUIux/zOmmLB1HbL5YSbYsFvm8aFbZpiwRV2cyp4mmLBo5R4kMuaYsGbZk1Gz5piwURc9HjOmGLB0922eG2aYsGIO3BLZJtiwfDB0U1fnmLBDOMDWumbYsGZ0UOCjJtiwTDK65fYnGLBaKhzACyaYsFcOOdmbZpiwRQFrFTUmmLBm2ZNRs+aYsFxJl92LppiwU16CI21mmLBTiuI4WWbYsFcOOdmbZpiwRNfppFtmmLBL4syejGbYsFCdT0M1JpiwZtmTUbPmmLBL4syejGbYsHJN3ur7ZpiwQ==\",\"dtype\":\"float64\",\"order\":\"little\",\"shape\":[200]},\"y\":{\"__ndarray__\":\"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\",\"dtype\":\"float64\",\"order\":\"little\",\"shape\":[200]},\"ym01\":{\"__ndarray__\":\"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\",\"dtype\":\"float64\",\"order\":\"little\",\"shape\":[200]}},\"selected\":{\"id\":\"1061\"},\"selection_policy\":{\"id\":\"1062\"}},\"id\":\"1044\",\"type\":\"ColumnDataSource\"},{\"attributes\":{\"bottom_units\":\"screen\",\"fill_alpha\":0.5,\"fill_color\":\"lightgrey\",\"left_units\":\"screen\",\"level\":\"overlay\",\"line_alpha\":1.0,\"line_color\":\"black\",\"line_dash\":[4,4],\"line_width\":2,\"right_units\":\"screen\",\"syncable\":false,\"top_units\":\"screen\"},\"id\":\"1033\",\"type\":\"BoxAnnotation\"},{\"attributes\":{},\"id\":\"1028\",\"type\":\"WheelZoomTool\"},{\"attributes\":{},\"id\":\"1057\",\"type\":\"AllLabels\"},{\"attributes\":{\"end\":-9745000,\"start\":-9780000},\"id\":\"1003\",\"type\":\"Range1d\"},{\"attributes\":{\"active_multi\":null,\"tools\":[{\"id\":\"1027\"},{\"id\":\"1028\"},{\"id\":\"1029\"},{\"id\":\"1030\"},{\"id\":\"1031\"},{\"id\":\"1032\"}]},\"id\":\"1034\",\"type\":\"Toolbar\"},{\"attributes\":{\"attribution\":\"&copy; <a href=\\\"https://www.openstreetmap.org/copyright\\\">OpenStreetMap</a> contributors,&copy; <a href=\\\"https://cartodb.com/attributions\\\">CartoDB</a>\",\"url\":\"https://tiles.basemaps.cartocdn.com/light_all/{z}/{x}/{y}.png\"},\"id\":\"1041\",\"type\":\"WMTSTileSource\"},{\"attributes\":{},\"id\":\"1027\",\"type\":\"PanTool\"},{\"attributes\":{\"end\":5160000,\"start\":5130000},\"id\":\"1005\",\"type\":\"Range1d\"},{\"attributes\":{\"text\":\"Most popular routes for casual users\",\"text_color\":\"black\",\"text_font_size\":\"20px\"},\"id\":\"1048\",\"type\":\"Title\"},{\"attributes\":{},\"id\":\"1007\",\"type\":\"LinearScale\"},{\"attributes\":{\"overlay\":{\"id\":\"1033\"}},\"id\":\"1029\",\"type\":\"BoxZoomTool\"},{\"attributes\":{\"line_alpha\":{\"value\":0.2},\"line_cap\":{\"value\":\"round\"},\"line_color\":{\"value\":\"#f4a582\"},\"line_join\":{\"value\":\"miter\"},\"line_width\":{\"value\":4},\"x0\":{\"field\":\"x\"},\"x1\":{\"field\":\"xm01\"},\"y0\":{\"field\":\"y\"},\"y1\":{\"field\":\"ym01\"}},\"id\":\"1045\",\"type\":\"Segment\"},{\"attributes\":{},\"id\":\"1030\",\"type\":\"SaveTool\"},{\"attributes\":{},\"id\":\"1031\",\"type\":\"ResetTool\"},{\"attributes\":{\"source\":{\"id\":\"1044\"}},\"id\":\"1047\",\"type\":\"CDSView\"},{\"attributes\":{},\"id\":\"1060\",\"type\":\"AllLabels\"},{\"attributes\":{},\"id\":\"1009\",\"type\":\"LinearScale\"},{\"attributes\":{},\"id\":\"1032\",\"type\":\"HelpTool\"},{\"attributes\":{\"data_source\":{\"id\":\"1044\"},\"glyph\":{\"id\":\"1045\"},\"hover_glyph\":null,\"muted_glyph\":null,\"view\":{\"id\":\"1047\"}},\"id\":\"1046\",\"type\":\"GlyphRenderer\"},{\"attributes\":{\"formatter\":{\"id\":\"1014\"},\"major_label_policy\":{\"id\":\"1060\"},\"ticker\":{\"id\":\"1012\"}},\"id\":\"1011\",\"type\":\"MercatorAxis\"},{\"attributes\":{\"dimension\":\"lon\"},\"id\":\"1012\",\"type\":\"MercatorTicker\"},{\"attributes\":{\"dimension\":\"lat\"},\"id\":\"1022\",\"type\":\"MercatorTickFormatter\"},{\"attributes\":{\"axis\":{\"id\":\"1011\"},\"ticker\":null},\"id\":\"1018\",\"type\":\"Grid\"},{\"attributes\":{\"dimension\":\"lat\"},\"id\":\"1020\",\"type\":\"MercatorTicker\"},{\"attributes\":{\"formatter\":{\"id\":\"1022\"},\"major_label_policy\":{\"id\":\"1057\"},\"ticker\":{\"id\":\"1020\"}},\"id\":\"1019\",\"type\":\"MercatorAxis\"},{\"attributes\":{\"tile_source\":{\"id\":\"1041\"}},\"id\":\"1042\",\"type\":\"TileRenderer\"},{\"attributes\":{\"dimension\":\"lon\"},\"id\":\"1014\",\"type\":\"MercatorTickFormatter\"},{\"attributes\":{},\"id\":\"1061\",\"type\":\"Selection\"},{\"attributes\":{\"axis\":{\"id\":\"1019\"},\"dimension\":1,\"ticker\":null},\"id\":\"1026\",\"type\":\"Grid\"},{\"attributes\":{},\"id\":\"1062\",\"type\":\"UnionRenderers\"}],\"root_ids\":[\"1002\"]},\"title\":\"Bokeh Application\",\"version\":\"2.3.2\"}};\n",
       "  var render_items = [{\"docid\":\"1123538a-b788-43ee-9323-67c860d4d6f3\",\"root_ids\":[\"1002\"],\"roots\":{\"1002\":\"7ec478a2-22e4-4243-b668-303871a45a17\"}}];\n",
       "  root.Bokeh.embed.embed_items_notebook(docs_json, render_items);\n",
       "\n",
       "  }\n",
       "  if (root.Bokeh !== undefined) {\n",
       "    embed_document(root);\n",
       "  } else {\n",
       "    var attempts = 0;\n",
       "    var timer = setInterval(function(root) {\n",
       "      if (root.Bokeh !== undefined) {\n",
       "        clearInterval(timer);\n",
       "        embed_document(root);\n",
       "      } else {\n",
       "        attempts++;\n",
       "        if (attempts > 100) {\n",
       "          clearInterval(timer);\n",
       "          console.log(\"Bokeh: ERROR: Unable to run BokehJS code because BokehJS library is missing\");\n",
       "        }\n",
       "      }\n",
       "    }, 10, root)\n",
       "  }\n",
       "})(window);"
      ],
      "application/vnd.bokehjs_exec.v0+json": ""
     },
     "metadata": {
      "application/vnd.bokehjs_exec.v0+json": {
       "id": "1002"
      }
     },
     "output_type": "display_data"
    }
   ],
   "source": [
    "# 7. Map for most popular routes of the casual customer\n",
    "# The map is interactive - with zooming tools and a reset button to come back to the original plot. \n",
    "\n",
    "p = figure(x_range=(-9780000, -9745000), y_range=(5130000, 5160000),\n",
    "           x_axis_type=\"mercator\", y_axis_type=\"mercator\")\n",
    "p.add_tile(get_provider('CARTODBPOSITRON'))\n",
    "\n",
    "source = ColumnDataSource(dict(\n",
    "        x=trip_coord['coords_x0'],\n",
    "        y=trip_coord['coords_y0'],\n",
    "        xm01=trip_coord['coords_x1'],\n",
    "        ym01=trip_coord['coords_y1'],\n",
    "    )\n",
    ")\n",
    "\n",
    "glyph = Segment(x0=\"x\", y0=\"y\", x1=\"xm01\", y1=\"ym01\", line_color=\"#f4a582\", line_width=4, line_alpha=.2, line_join='miter', line_cap='round')\n",
    "p.add_glyph(source, glyph)\n",
    "p.title.text = 'Most popular routes for casual users'\n",
    "p.title.align = 'left'\n",
    "p.title.text_color= 'black'\n",
    "p.title.text_font_size = '20px'\n",
    "\n",
    "output_notebook()\n",
    "show(p)\n",
    "\n",
    "# Notes: this plot only enhances the profile of the 'casual' user and its contrast to the annual member. It is safe to assume that most casual \n",
    "# users are people that use the services mainly on weekends, prefer eletric bike and ride mainly in the city centre. These people tend to favor \n",
    "# leisure or perhaps are tourists, but don't usually commute using our bikes. They are probably sightseeing and as a result, they end up using\n",
    "# the bikes for a longer period, even though the average distance is similar to that of the annual member."
   ]
  },
  {
   "cell_type": "markdown",
   "id": "f0af679f",
   "metadata": {
    "papermill": {
     "duration": 0.033774,
     "end_time": "2021-07-20T15:37:00.852577",
     "exception": false,
     "start_time": "2021-07-20T15:37:00.818803",
     "status": "completed"
    },
    "tags": []
   },
   "source": [
    "### Share and Act\n",
    "#### With the data visualizations create throughout the analysis, it's time to share the findings and the story the data tells.\n",
    "#### Even though the task is simply to identify differences between user types, considering all of the following questions may be useful to convey valuable recommendations:\n",
    "\n",
    "1. **How do annual members and casual riders use Cyclistic bikes differently?**\n",
    "*  As described in the previous - and last - plot notes, the profile for each customer and its effect on the way they use our services is quite clear - obviously, more data would be important to determine if our inferences are actually accurate. \n",
    "* **Casual** customers are tend to prefer electric bikes, usually ride near the city centre - as demonstrate via the map and most frequent stations plots -, have higher usage on weekends and in the afternoon and usually have longer rides - maybe because they are on their time off and focused on leisure, sightseeing, etc. Of course, some of them may actually commute during working days but have not been triggered to sign for an annual membership. There could be strategies for both personas.\n",
    "* **Annual** members not necessary prefer one type of bike over the other - even though they, in general, use more of the classic bikes, it may only be due to availability. Because of their steady usage on working days and the peak around the end of business hours, they probably make the most use of our services to move to and from their working place. As a result of their annual membership, they probably use the bikes for shorter distances, which would reasonably explain the difference in the duration of their trips. \n",
    "\n",
    "2. **Why would casual riders buy Cyclistic annual memberships?**\n",
    "* Two main pieces of data, which are missing, could contribute to tackle this question: out of the docked bikes, which are electric and which are 'classic'? A higher availability of electric bikes in the busiest stations for casual customers could drive their usage up. Also, financial information could help emphasize the benefits of being an annual member. For those casual clients who use the bikes with a certain frequency, highlighting the cost-benefit of being an annual member might make them consider becoming one.\n",
    "\n",
    "3. **How can Cyclistic use digital media to influence casual riders to become members?**\n",
    "* The brand could try to drive up engagement by making posts related to leisure (especially closer to the weekend) and the benefits of using riding a bicycle on a daily basis - these could be related to the environment (less cars on the street), physical and mental health (avoid traffic, exercising, etc.)\n",
    "* Mentioning the benefits of being an annual member should also be effective.\n",
    "\n",
    "### *<ins>Recommendations</ins>* (top three):\n",
    "##### 1. Use social media and e-mail marketing to engane with casual customers. Emphasize the benefits of being an annual member, which they may not be acquainted with yet. \n",
    "##### 1.1 Give a special discount valid for working days for those who use frequently the services only on weekends. The percentage of this discount may gradually decrease throughout the day - which would mean that the earlier they used their coupon, the higher the percentage would be. This may lead them to use it early in the morning, which is currently their bottom in daily usage.<br>\n",
    "##### 2. Ensure availability of electric bikes on the most popular stations.<br> \n",
    "##### 3. Place 'out of home' ads near these stations and on their most frequent routes, especially in the city centre and close to tourist attractions."
   ]
  },
  {
   "cell_type": "markdown",
   "id": "b237cf16",
   "metadata": {
    "papermill": {
     "duration": 0.033978,
     "end_time": "2021-07-20T15:37:00.920935",
     "exception": false,
     "start_time": "2021-07-20T15:37:00.886957",
     "status": "completed"
    },
    "tags": []
   },
   "source": [
    "### Thank you for reading!\n",
    "##### You can find me on:\n",
    "* [Github](https://github.com/yncosta)\n",
    "* [Kaggle](https://www.kaggle.com/yanscosta)\n",
    "* [LinkedIn](https://www.linkedin.com/in/yanphcosta/)"
   ]
  }
 ],
 "metadata": {
  "kernelspec": {
   "display_name": "Python 3",
   "language": "python",
   "name": "python3"
  },
  "language_info": {
   "codemirror_mode": {
    "name": "ipython",
    "version": 3
   },
   "file_extension": ".py",
   "mimetype": "text/x-python",
   "name": "python",
   "nbconvert_exporter": "python",
   "pygments_lexer": "ipython3",
   "version": "3.7.10"
  },
  "papermill": {
   "default_parameters": {},
   "duration": 1135.851464,
   "end_time": "2021-07-20T15:37:03.665621",
   "environment_variables": {},
   "exception": null,
   "input_path": "__notebook__.ipynb",
   "output_path": "__notebook__.ipynb",
   "parameters": {},
   "start_time": "2021-07-20T15:18:07.814157",
   "version": "2.3.3"
  }
 },
 "nbformat": 4,
 "nbformat_minor": 5
}
