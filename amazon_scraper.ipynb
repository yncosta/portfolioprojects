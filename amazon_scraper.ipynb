{
  "nbformat": 4,
  "nbformat_minor": 0,
  "metadata": {
    "colab": {
      "name": "amazon-scraper.ipynb",
      "provenance": []
    },
    "kernelspec": {
      "name": "python3",
      "display_name": "Python 3"
    },
    "language_info": {
      "name": "python"
    }
  },
  "cells": [
    {
      "cell_type": "markdown",
      "metadata": {
        "id": "X1BH_X8g49NF"
      },
      "source": [
        "# Web Scraping Amazon.com\n",
        "\n",
        "Used *BeautifulSoup* and *Selenium* to build an algorithm that scrapes Amazon.com and returns the **description**, **price**, **rating**, **review count** and **url** of products, based on a given search term.\n",
        "\n",
        "---"
      ]
    },
    {
      "cell_type": "markdown",
      "metadata": {
        "id": "qDlu2JV4odbN"
      },
      "source": [
        "# Import libraries"
      ]
    },
    {
      "cell_type": "code",
      "metadata": {
        "colab": {
          "base_uri": "https://localhost:8080/"
        },
        "collapsed": true,
        "id": "CRfdH8lHkO2Q",
        "outputId": "d6222399-3a8c-4f1c-e3df-0a7bdd33c6a2"
      },
      "source": [
        "import csv\n",
        "from bs4 import BeautifulSoup\n",
        "!pip install selenium\n",
        "!apt-get update \n",
        "!apt install chromium-chromedriver\n",
        "!cp /usr/lib/chromium-browser/chromedriver /usr/bin\n",
        "\n",
        "import sys\n",
        "sys.path.insert(0,'/usr/lib/chromium-browser/chromedriver')\n",
        "from selenium import webdriver"
      ],
      "execution_count": 1,
      "outputs": [
        {
          "output_type": "stream",
          "text": [
            "Collecting selenium\n",
            "  Downloading selenium-3.141.0-py2.py3-none-any.whl (904 kB)\n",
            "\u001b[K     |████████████████████████████████| 904 kB 5.2 MB/s \n",
            "\u001b[?25hRequirement already satisfied: urllib3 in /usr/local/lib/python3.7/dist-packages (from selenium) (1.24.3)\n",
            "Installing collected packages: selenium\n",
            "Successfully installed selenium-3.141.0\n",
            "Get:1 http://security.ubuntu.com/ubuntu bionic-security InRelease [88.7 kB]\n",
            "Get:2 https://cloud.r-project.org/bin/linux/ubuntu bionic-cran40/ InRelease [3,626 B]\n",
            "Ign:3 https://developer.download.nvidia.com/compute/cuda/repos/ubuntu1804/x86_64  InRelease\n",
            "Ign:4 https://developer.download.nvidia.com/compute/machine-learning/repos/ubuntu1804/x86_64  InRelease\n",
            "Hit:5 https://developer.download.nvidia.com/compute/cuda/repos/ubuntu1804/x86_64  Release\n",
            "Get:6 http://ppa.launchpad.net/c2d4u.team/c2d4u4.0+/ubuntu bionic InRelease [15.9 kB]\n",
            "Hit:7 http://archive.ubuntu.com/ubuntu bionic InRelease\n",
            "Hit:8 https://developer.download.nvidia.com/compute/machine-learning/repos/ubuntu1804/x86_64  Release\n",
            "Get:9 http://archive.ubuntu.com/ubuntu bionic-updates InRelease [88.7 kB]\n",
            "Hit:10 http://ppa.launchpad.net/cran/libgit2/ubuntu bionic InRelease\n",
            "Get:11 http://archive.ubuntu.com/ubuntu bionic-backports InRelease [74.6 kB]\n",
            "Hit:12 http://ppa.launchpad.net/deadsnakes/ppa/ubuntu bionic InRelease\n",
            "Get:13 http://security.ubuntu.com/ubuntu bionic-security/universe amd64 Packages [1,424 kB]\n",
            "Hit:14 http://ppa.launchpad.net/graphics-drivers/ppa/ubuntu bionic InRelease\n",
            "Get:15 http://security.ubuntu.com/ubuntu bionic-security/main amd64 Packages [2,294 kB]\n",
            "Get:16 http://security.ubuntu.com/ubuntu bionic-security/restricted amd64 Packages [543 kB]\n",
            "Get:19 http://ppa.launchpad.net/c2d4u.team/c2d4u4.0+/ubuntu bionic/main Sources [1,794 kB]\n",
            "Get:20 http://archive.ubuntu.com/ubuntu bionic-updates/main amd64 Packages [2,730 kB]\n",
            "Get:21 http://ppa.launchpad.net/c2d4u.team/c2d4u4.0+/ubuntu bionic/main amd64 Packages [918 kB]\n",
            "Get:22 http://archive.ubuntu.com/ubuntu bionic-updates/restricted amd64 Packages [575 kB]\n",
            "Get:23 http://archive.ubuntu.com/ubuntu bionic-updates/multiverse amd64 Packages [34.4 kB]\n",
            "Get:24 http://archive.ubuntu.com/ubuntu bionic-updates/universe amd64 Packages [2,199 kB]\n",
            "Fetched 12.8 MB in 4s (3,290 kB/s)\n",
            "Reading package lists... Done\n",
            "Reading package lists... Done\n",
            "Building dependency tree       \n",
            "Reading state information... Done\n",
            "The following package was automatically installed and is no longer required:\n",
            "  libnvidia-common-460\n",
            "Use 'apt autoremove' to remove it.\n",
            "The following additional packages will be installed:\n",
            "  chromium-browser chromium-browser-l10n chromium-codecs-ffmpeg-extra\n",
            "Suggested packages:\n",
            "  webaccounts-chromium-extension unity-chromium-extension\n",
            "The following NEW packages will be installed:\n",
            "  chromium-browser chromium-browser-l10n chromium-chromedriver\n",
            "  chromium-codecs-ffmpeg-extra\n",
            "0 upgraded, 4 newly installed, 0 to remove and 52 not upgraded.\n",
            "Need to get 91.8 MB of archives.\n",
            "After this operation, 315 MB of additional disk space will be used.\n",
            "Get:1 http://archive.ubuntu.com/ubuntu bionic-updates/universe amd64 chromium-codecs-ffmpeg-extra amd64 92.0.4515.159-0ubuntu0.18.04.1 [1,124 kB]\n",
            "Get:2 http://archive.ubuntu.com/ubuntu bionic-updates/universe amd64 chromium-browser amd64 92.0.4515.159-0ubuntu0.18.04.1 [81.7 MB]\n",
            "Get:3 http://archive.ubuntu.com/ubuntu bionic-updates/universe amd64 chromium-browser-l10n all 92.0.4515.159-0ubuntu0.18.04.1 [4,026 kB]\n",
            "Get:4 http://archive.ubuntu.com/ubuntu bionic-updates/universe amd64 chromium-chromedriver amd64 92.0.4515.159-0ubuntu0.18.04.1 [4,902 kB]\n",
            "Fetched 91.8 MB in 4s (23.8 MB/s)\n",
            "Selecting previously unselected package chromium-codecs-ffmpeg-extra.\n",
            "(Reading database ... 148486 files and directories currently installed.)\n",
            "Preparing to unpack .../chromium-codecs-ffmpeg-extra_92.0.4515.159-0ubuntu0.18.04.1_amd64.deb ...\n",
            "Unpacking chromium-codecs-ffmpeg-extra (92.0.4515.159-0ubuntu0.18.04.1) ...\n",
            "Selecting previously unselected package chromium-browser.\n",
            "Preparing to unpack .../chromium-browser_92.0.4515.159-0ubuntu0.18.04.1_amd64.deb ...\n",
            "Unpacking chromium-browser (92.0.4515.159-0ubuntu0.18.04.1) ...\n",
            "Selecting previously unselected package chromium-browser-l10n.\n",
            "Preparing to unpack .../chromium-browser-l10n_92.0.4515.159-0ubuntu0.18.04.1_all.deb ...\n",
            "Unpacking chromium-browser-l10n (92.0.4515.159-0ubuntu0.18.04.1) ...\n",
            "Selecting previously unselected package chromium-chromedriver.\n",
            "Preparing to unpack .../chromium-chromedriver_92.0.4515.159-0ubuntu0.18.04.1_amd64.deb ...\n",
            "Unpacking chromium-chromedriver (92.0.4515.159-0ubuntu0.18.04.1) ...\n",
            "Setting up chromium-codecs-ffmpeg-extra (92.0.4515.159-0ubuntu0.18.04.1) ...\n",
            "Setting up chromium-browser (92.0.4515.159-0ubuntu0.18.04.1) ...\n",
            "update-alternatives: using /usr/bin/chromium-browser to provide /usr/bin/x-www-browser (x-www-browser) in auto mode\n",
            "update-alternatives: using /usr/bin/chromium-browser to provide /usr/bin/gnome-www-browser (gnome-www-browser) in auto mode\n",
            "Setting up chromium-chromedriver (92.0.4515.159-0ubuntu0.18.04.1) ...\n",
            "Setting up chromium-browser-l10n (92.0.4515.159-0ubuntu0.18.04.1) ...\n",
            "Processing triggers for man-db (2.8.3-2ubuntu0.1) ...\n",
            "Processing triggers for hicolor-icon-theme (0.17-2) ...\n",
            "Processing triggers for mime-support (3.60ubuntu1) ...\n",
            "Processing triggers for libc-bin (2.27-3ubuntu1.2) ...\n",
            "/sbin/ldconfig.real: /usr/local/lib/python3.7/dist-packages/ideep4py/lib/libmkldnn.so.0 is not a symbolic link\n",
            "\n",
            "cp: '/usr/lib/chromium-browser/chromedriver' and '/usr/bin/chromedriver' are the same file\n"
          ],
          "name": "stdout"
        }
      ]
    },
    {
      "cell_type": "markdown",
      "metadata": {
        "id": "X26aGx7Eo1aC"
      },
      "source": [
        "# Start the WebDriver"
      ]
    },
    {
      "cell_type": "code",
      "metadata": {
        "id": "tvhFpIhknceA"
      },
      "source": [
        "chrome_options = webdriver.ChromeOptions()\n",
        "chrome_options.add_argument('--headless')\n",
        "chrome_options.add_argument('--no-sandbox')\n",
        "chrome_options.add_argument('--disable-dev-shm-usage')\n",
        "wd = webdriver.Chrome('chromedriver', options=chrome_options)\n",
        "url = 'https://www.amazon.com'\n",
        "wd.get(url)"
      ],
      "execution_count": 2,
      "outputs": []
    },
    {
      "cell_type": "markdown",
      "metadata": {
        "id": "xCGorkpOp7zO"
      },
      "source": [
        "# Create a function to get the page's URL"
      ]
    },
    {
      "cell_type": "code",
      "metadata": {
        "colab": {
          "base_uri": "https://localhost:8080/"
        },
        "id": "99buMXAWpS1r",
        "outputId": "3ef65143-adae-4fb3-946a-b541cc5fdce0"
      },
      "source": [
        "def get_url(search_term):\n",
        "  '''Generate a url from search term'''\n",
        "  template = 'https://www.amazon.com/s?k={}&ref=nb_sb_noss_1'\n",
        "  search_term = search_term.replace(' ', '+')\n",
        "  return template.format(search_term)\n",
        "\n",
        "url = get_url('ultrawide monitor')\n",
        "wd.get(url)\n",
        "print(url)"
      ],
      "execution_count": 3,
      "outputs": [
        {
          "output_type": "stream",
          "text": [
            "https://www.amazon.com/s?k=ultrawide+monitor&ref=nb_sb_noss_1\n"
          ],
          "name": "stdout"
        }
      ]
    },
    {
      "cell_type": "markdown",
      "metadata": {
        "id": "fDShc7barRVj"
      },
      "source": [
        "# Extract the Collection and Prototype the Record"
      ]
    },
    {
      "cell_type": "code",
      "metadata": {
        "id": "7I_N4dnkq2UH"
      },
      "source": [
        "soup = BeautifulSoup(wd.page_source, 'html.parser')\n",
        "results = soup.find_all('div', {'data-component-type': 's-search-result'})\n",
        "\n",
        "# inspecting the results page to come up with the following:\n",
        "item = results[0]\n",
        "atag = item.h2.a\n",
        "description = atag.text.strip()\n",
        "url = 'https://amazon.com' + atag.get('href')\n",
        "price_parent = item.find('span', 'a-price')\n",
        "price = price_parent.find('span', 'a-offscreen').text\n",
        "rating = item.i.text\n",
        "review_count = item.find('span', 'a-size-base').text"
      ],
      "execution_count": 4,
      "outputs": []
    },
    {
      "cell_type": "markdown",
      "metadata": {
        "id": "MBPFiC5Mwm8J"
      },
      "source": [
        "# Generalize the Pattern"
      ]
    },
    {
      "cell_type": "code",
      "metadata": {
        "id": "MjlXAFDRur8_"
      },
      "source": [
        "def extract_record(item):\n",
        "  '''Extract and return data from a single record'''\n",
        "\n",
        "  # description and url\n",
        "  atag = item.h2.a\n",
        "  description = atag.text.strip()\n",
        "  url = 'https://amazon.com' + atag.get('href')\n",
        "  \n",
        "  try: \n",
        "    # price\n",
        "    price_parent = item.find('span', 'a-price')\n",
        "    price = price_parent.find('span', 'a-offscreen').text\n",
        "  except AttributeError:\n",
        "    return \n",
        "\n",
        "  try:   \n",
        "    # rank and rating\n",
        "    rating = item.i.text\n",
        "    review_count = item.find('span', 'a-size-base').text\n",
        "  except AttributeError:\n",
        "    rating = ''\n",
        "    review_count = ''\n",
        "\n",
        "  result = (description, price, rating, review_count, url)\n",
        "\n",
        "  return result"
      ],
      "execution_count": 5,
      "outputs": []
    },
    {
      "cell_type": "code",
      "metadata": {
        "colab": {
          "base_uri": "https://localhost:8080/"
        },
        "id": "yRHrrir8xJhq",
        "outputId": "3feff46b-a7a7-4150-c08e-5018e6d829ec"
      },
      "source": [
        "records = []\n",
        "results = soup.find_all('div', {'data-component-type': 's-search-result'})\n",
        "\n",
        "for item in results:\n",
        "  record = extract_record(item)\n",
        "  if record:\n",
        "    records.append(record)\n",
        "\n",
        "records[0]"
      ],
      "execution_count": 6,
      "outputs": [
        {
          "output_type": "execute_result",
          "data": {
            "text/plain": [
              "('SAMSUNG 34-Inch SJ55W Ultrawide Gaming Monitor (LS34J550WQNXZA) – 75Hz Refresh, WQHD Computer Monitor, 3440 x 1440p Resolution, 4ms Response, FreeSync, Split Screen, HDMI, Black',\n",
              " '$351.11',\n",
              " '4.5 out of 5 stars',\n",
              " '891',\n",
              " 'https://amazon.com/Samsung-S34J55W-34-Inch-Ultrawide-LS34J550WQNXZA/dp/B07FBS36W2/ref=sr_1_1?dchild=1&keywords=ultrawide+monitor&qid=1629799834&sr=8-1')"
            ]
          },
          "metadata": {},
          "execution_count": 6
        }
      ]
    },
    {
      "cell_type": "code",
      "metadata": {
        "colab": {
          "base_uri": "https://localhost:8080/"
        },
        "id": "gr-uJLF30Bup",
        "outputId": "c545a63f-50b0-48d9-eba5-5ca9607bff2a"
      },
      "source": [
        "# testing for the prices:\n",
        "for row in records:\n",
        "  print(row[1])"
      ],
      "execution_count": 7,
      "outputs": [
        {
          "output_type": "stream",
          "text": [
            "$351.11\n",
            "$246.99\n",
            "$414.75\n",
            "$349.99\n",
            "$281.60\n",
            "$279.00\n",
            "$496.99\n",
            "$399.99\n",
            "$699.99\n",
            "$149.99\n",
            "$419.99\n",
            "$997.83\n",
            "$1,177.43\n",
            "$522.11\n",
            "$549.99\n",
            "$1,296.99\n"
          ],
          "name": "stdout"
        }
      ]
    },
    {
      "cell_type": "markdown",
      "metadata": {
        "id": "v9pyDmEN0IC9"
      },
      "source": [
        "# Getting the next page"
      ]
    },
    {
      "cell_type": "code",
      "metadata": {
        "id": "E0hjAtfHzrb_"
      },
      "source": [
        "def get_url(search_term):\n",
        "  '''Generate a url from search term'''\n",
        "  template = 'https://www.amazon.com/s?k={}&ref=nb_sb_noss_1'\n",
        "  search_term = search_term.replace(' ', '+')\n",
        "\n",
        "  # add term query to url\n",
        "  url = template.format(search_term)\n",
        "\n",
        "  # add page query placeholder\n",
        "  url += '&page{}'\n",
        "\n",
        "  return url "
      ],
      "execution_count": 8,
      "outputs": []
    },
    {
      "cell_type": "markdown",
      "metadata": {
        "id": "H8xeyEDe00GF"
      },
      "source": [
        "# Putting it all together"
      ]
    },
    {
      "cell_type": "code",
      "metadata": {
        "id": "CTeJxtFV0xK_"
      },
      "source": [
        "def get_url(search_term):\n",
        "  '''Generate a url from search term'''\n",
        "  template = 'https://www.amazon.com/s?k={}&ref=nb_sb_noss_1'\n",
        "  search_term = search_term.replace(' ', '+')\n",
        "\n",
        "  # add term query to url\n",
        "  url = template.format(search_term)\n",
        "\n",
        "  # add page query placeholder\n",
        "  url += '&page={}'\n",
        "\n",
        "  return url\n",
        "\n",
        "def extract_record(item):\n",
        "  '''Extract and return data from a single record'''\n",
        "\n",
        "  # description and url\n",
        "  atag = item.h2.a\n",
        "  description = atag.text.strip()\n",
        "  url = 'https://amazon.com' + atag.get('href')\n",
        "  \n",
        "  try: \n",
        "    # price\n",
        "    price_parent = item.find('span', 'a-price')\n",
        "    price = price_parent.find('span', 'a-offscreen').text\n",
        "  except AttributeError:\n",
        "    return \n",
        "\n",
        "  try:   \n",
        "    # rank and rating\n",
        "    rating = item.i.text\n",
        "    review_count = item.find('span', 'a-size-base').text\n",
        "  except AttributeError:\n",
        "    rating = ''\n",
        "    review_count = ''\n",
        "\n",
        "  result = (description, price, rating, review_count, url)\n",
        "\n",
        "  return result\n",
        "\n",
        "def main(search_term):\n",
        "  '''Run main program routine'''\n",
        "  # start up the webdriver\n",
        "  chrome_options = webdriver.ChromeOptions()\n",
        "  chrome_options.add_argument('--headless')\n",
        "  chrome_options.add_argument('--no-sandbox')\n",
        "  chrome_options.add_argument('--disable-dev-shm-usage')\n",
        "  wd = webdriver.Chrome('chromedriver', options=chrome_options)\n",
        "\n",
        "  records = []\n",
        "  url = get_url(search_term)\n",
        "\n",
        "  for page in range(1, 21):\n",
        "    wd.get(url.format(page))\n",
        "    soup = BeautifulSoup(wd.page_source, 'html.parser')\n",
        "    results = soup.find_all('div', {'data-component-type': 's-search-result'})\n",
        "\n",
        "    for item in results:\n",
        "      record = extract_record(item)\n",
        "      if record:\n",
        "        records.append(record)\n",
        "    \n",
        "  wd.close()\n",
        "\n",
        "  # save data to csv file\n",
        "  with open('results.csv', 'w', newline='', encoding='utf-8') as f:\n",
        "    writer = csv.writer(f, delimiter=' ')\n",
        "    writer.writerow(['Description', 'Price', 'Rating', 'ReviewCount', 'Url'])\n",
        "    writer.writerows(records)"
      ],
      "execution_count": 9,
      "outputs": []
    },
    {
      "cell_type": "markdown",
      "metadata": {
        "id": "K_3WDWoJ7t-C"
      },
      "source": [
        "# Executing and Checking the Results"
      ]
    },
    {
      "cell_type": "code",
      "metadata": {
        "id": "SKLK9iYP2vwo"
      },
      "source": [
        "main('ultrawide monitor')"
      ],
      "execution_count": 10,
      "outputs": []
    },
    {
      "cell_type": "code",
      "metadata": {
        "id": "bDBuoTOg21ND",
        "colab": {
          "base_uri": "https://localhost:8080/",
          "height": 204
        },
        "outputId": "cc318995-e056-449d-c4b9-f7636f066012"
      },
      "source": [
        "import pandas as pd\n",
        "results = pd.read_csv('/content/results.csv', delimiter=' ')\n",
        "results.head()"
      ],
      "execution_count": 11,
      "outputs": [
        {
          "output_type": "execute_result",
          "data": {
            "text/html": [
              "<div>\n",
              "<style scoped>\n",
              "    .dataframe tbody tr th:only-of-type {\n",
              "        vertical-align: middle;\n",
              "    }\n",
              "\n",
              "    .dataframe tbody tr th {\n",
              "        vertical-align: top;\n",
              "    }\n",
              "\n",
              "    .dataframe thead th {\n",
              "        text-align: right;\n",
              "    }\n",
              "</style>\n",
              "<table border=\"1\" class=\"dataframe\">\n",
              "  <thead>\n",
              "    <tr style=\"text-align: right;\">\n",
              "      <th></th>\n",
              "      <th>Description</th>\n",
              "      <th>Price</th>\n",
              "      <th>Rating</th>\n",
              "      <th>ReviewCount</th>\n",
              "      <th>Url</th>\n",
              "    </tr>\n",
              "  </thead>\n",
              "  <tbody>\n",
              "    <tr>\n",
              "      <th>0</th>\n",
              "      <td>Sceptre 30-inch Curved Gaming Monitor 21:9 256...</td>\n",
              "      <td>$308.47</td>\n",
              "      <td>4.6 out of 5 stars</td>\n",
              "      <td>6,797</td>\n",
              "      <td>https://amazon.com/Sceptre-30-inch-Curved-Gami...</td>\n",
              "    </tr>\n",
              "    <tr>\n",
              "      <th>1</th>\n",
              "      <td>Sceptre E248W-19203R 24\" Ultra Thin 75Hz 1080p...</td>\n",
              "      <td>$141.26</td>\n",
              "      <td>4.6 out of 5 stars</td>\n",
              "      <td>14,723</td>\n",
              "      <td>https://amazon.com/Sceptre-E248W-19203R-Monito...</td>\n",
              "    </tr>\n",
              "    <tr>\n",
              "      <th>2</th>\n",
              "      <td>HP 34f 34” Curved Monitor with AMD FreeSync Te...</td>\n",
              "      <td>$691.99</td>\n",
              "      <td>4.6 out of 5 stars</td>\n",
              "      <td>266</td>\n",
              "      <td>https://amazon.com/HP-34-Inch-Monitor-Freesync...</td>\n",
              "    </tr>\n",
              "    <tr>\n",
              "      <th>3</th>\n",
              "      <td>Acer EI292CUR Pbmiipx 29\" 1200R 21:9 Curved Fu...</td>\n",
              "      <td>$249.99</td>\n",
              "      <td>4.4 out of 5 stars</td>\n",
              "      <td>263</td>\n",
              "      <td>https://amazon.com/Acer-EI292CUR-Pbmiipx-1200R...</td>\n",
              "    </tr>\n",
              "    <tr>\n",
              "      <th>4</th>\n",
              "      <td>Sceptre IPS 27-Inch Business Computer Monitor ...</td>\n",
              "      <td>$157.07</td>\n",
              "      <td>4.6 out of 5 stars</td>\n",
              "      <td>2,329</td>\n",
              "      <td>https://amazon.com/Sceptre-Business-Computer-S...</td>\n",
              "    </tr>\n",
              "  </tbody>\n",
              "</table>\n",
              "</div>"
            ],
            "text/plain": [
              "                                         Description  ...                                                Url\n",
              "0  Sceptre 30-inch Curved Gaming Monitor 21:9 256...  ...  https://amazon.com/Sceptre-30-inch-Curved-Gami...\n",
              "1  Sceptre E248W-19203R 24\" Ultra Thin 75Hz 1080p...  ...  https://amazon.com/Sceptre-E248W-19203R-Monito...\n",
              "2  HP 34f 34” Curved Monitor with AMD FreeSync Te...  ...  https://amazon.com/HP-34-Inch-Monitor-Freesync...\n",
              "3  Acer EI292CUR Pbmiipx 29\" 1200R 21:9 Curved Fu...  ...  https://amazon.com/Acer-EI292CUR-Pbmiipx-1200R...\n",
              "4  Sceptre IPS 27-Inch Business Computer Monitor ...  ...  https://amazon.com/Sceptre-Business-Computer-S...\n",
              "\n",
              "[5 rows x 5 columns]"
            ]
          },
          "metadata": {},
          "execution_count": 11
        }
      ]
    },
    {
      "cell_type": "code",
      "metadata": {
        "id": "GohTa-Z_8OBb",
        "colab": {
          "base_uri": "https://localhost:8080/",
          "height": 278
        },
        "outputId": "e40ecfe1-9ee3-4699-f976-e8a657609088"
      },
      "source": [
        "ax = pd.to_numeric(results.Price.str.split('$', expand=True)[1].head()).plot(kind='bar');\n",
        "ax.set_xlabel('');\n",
        "ax.set_title('Price of the first 5 products');"
      ],
      "execution_count": 12,
      "outputs": [
        {
          "output_type": "display_data",
          "data": {
            "image/png": "[encoded data removed]",
            "text/plain": [
              "<Figure size 432x288 with 1 Axes>"
            ]
          },
          "metadata": {
            "needs_background": "light"
          }
        }
      ]
    },
    {
      "cell_type": "markdown",
      "metadata": {
        "id": "kr5NSnon75XM"
      },
      "source": [
        "### Thank you!\n",
        "If you have any suggestions and/or ideas for improvement, please, do not hesitate to leave a comment! :)"
      ]
    }
  ]
}